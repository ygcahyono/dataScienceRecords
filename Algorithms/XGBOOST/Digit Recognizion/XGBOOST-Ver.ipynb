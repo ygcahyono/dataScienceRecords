{
 "cells": [
  {
   "cell_type": "markdown",
   "metadata": {},
   "source": [
    "# load the package"
   ]
  },
  {
   "cell_type": "code",
   "execution_count": 1,
   "metadata": {
    "ExecuteTime": {
     "end_time": "2020-06-21T16:31:38.796333Z",
     "start_time": "2020-06-21T16:31:32.518210Z"
    }
   },
   "outputs": [
    {
     "name": "stderr",
     "output_type": "stream",
     "text": [
      "C:\\Users\\yogit\\Anaconda3\\lib\\site-packages\\dask\\config.py:168: YAMLLoadWarning: calling yaml.load() without Loader=... is deprecated, as the default Loader is unsafe. Please read https://msg.pyyaml.org/load for full details.\n",
      "  data = yaml.load(f.read()) or {}\n",
      "C:\\Users\\yogit\\Anaconda3\\lib\\site-packages\\distributed\\config.py:20: YAMLLoadWarning: calling yaml.load() without Loader=... is deprecated, as the default Loader is unsafe. Please read https://msg.pyyaml.org/load for full details.\n",
      "  defaults = yaml.load(f)\n"
     ]
    }
   ],
   "source": [
    "# This Python 3 environment comes with many helpful analytics libraries installed\n",
    "# It is defined by the kaggle/python docker image: https://github.com/kaggle/docker-python\n",
    "# For example, here's several helpful packages to load in \n",
    "\n",
    "import numpy as np # linear algebra\n",
    "import pandas as pd # data processing, CSV file I/O (e.g. pd.read_csv)\n",
    "# import pandas as pd\n",
    "import xgboost as xgb\n",
    "from sklearn.model_selection import train_test_split\n",
    "from sklearn import metrics"
   ]
  },
  {
   "cell_type": "code",
   "execution_count": 2,
   "metadata": {
    "ExecuteTime": {
     "end_time": "2020-06-21T16:31:53.884002Z",
     "start_time": "2020-06-21T16:31:38.802451Z"
    }
   },
   "outputs": [],
   "source": [
    "train = pd.read_csv('../../Input Files/Digit Recognizer/train.csv')\n",
    "test = pd.read_csv('../../Input Files/Digit Recognizer/test.csv')\n",
    "sample_submission = pd.read_csv('../../Input Files/Digit Recognizer/sample_submission.csv')"
   ]
  },
  {
   "cell_type": "code",
   "execution_count": 3,
   "metadata": {
    "ExecuteTime": {
     "end_time": "2020-06-21T16:31:53.900400Z",
     "start_time": "2020-06-21T16:31:53.889025Z"
    }
   },
   "outputs": [],
   "source": [
    "col = ['pixel%d' %i for i in range(784)]"
   ]
  },
  {
   "cell_type": "markdown",
   "metadata": {},
   "source": [
    "# Workflow"
   ]
  },
  {
   "cell_type": "markdown",
   "metadata": {},
   "source": [
    "## load the dataset"
   ]
  },
  {
   "cell_type": "code",
   "execution_count": 4,
   "metadata": {
    "ExecuteTime": {
     "end_time": "2020-06-21T16:31:54.110605Z",
     "start_time": "2020-06-21T16:31:53.927886Z"
    }
   },
   "outputs": [],
   "source": [
    "train_backup = train.copy()\n",
    "test_backup = test.copy()"
   ]
  },
  {
   "cell_type": "markdown",
   "metadata": {},
   "source": [
    "## train test split"
   ]
  },
  {
   "cell_type": "code",
   "execution_count": 5,
   "metadata": {
    "ExecuteTime": {
     "end_time": "2020-06-21T16:31:54.977658Z",
     "start_time": "2020-06-21T16:31:54.115656Z"
    }
   },
   "outputs": [],
   "source": [
    "X_train, X_val, Y_train, Y_val = train_test_split(train[col], train['label'], test_size=0.1)"
   ]
  },
  {
   "cell_type": "code",
   "execution_count": 10,
   "metadata": {
    "ExecuteTime": {
     "end_time": "2020-06-12T13:56:16.353644Z",
     "start_time": "2020-06-12T13:56:15.246923Z"
    }
   },
   "outputs": [],
   "source": [
    "dtrain = xgb.DMatrix(X_train, label=Y_train)\n",
    "dval = xgb.DMatrix(X_val, label=Y_val)"
   ]
  },
  {
   "cell_type": "code",
   "execution_count": 76,
   "metadata": {
    "ExecuteTime": {
     "end_time": "2020-06-13T02:39:40.625792Z",
     "start_time": "2020-06-13T02:39:40.620797Z"
    }
   },
   "outputs": [],
   "source": [
    "sample_submission_v2['Label'] = preds"
   ]
  },
  {
   "cell_type": "markdown",
   "metadata": {},
   "source": [
    "# ver 1 xgboost"
   ]
  },
  {
   "cell_type": "code",
   "execution_count": 13,
   "metadata": {
    "ExecuteTime": {
     "end_time": "2020-06-13T01:35:45.670888Z",
     "start_time": "2020-06-12T23:07:25.187254Z"
    },
    "collapsed": true
   },
   "outputs": [
    {
     "name": "stdout",
     "output_type": "stream",
     "text": [
      "[0]\teval-mlogloss:2.10613\ttrain-mlogloss:2.09380\n",
      "Multiple eval metrics have been passed: 'train-mlogloss' will be used for early stopping.\n",
      "\n",
      "Will train until train-mlogloss hasn't improved in 20 rounds.\n",
      "[20]\teval-mlogloss:0.77709\ttrain-mlogloss:0.65947\n",
      "[40]\teval-mlogloss:0.40789\ttrain-mlogloss:0.26946\n",
      "[60]\teval-mlogloss:0.25444\ttrain-mlogloss:0.11854\n",
      "[80]\teval-mlogloss:0.18416\ttrain-mlogloss:0.05633\n",
      "[100]\teval-mlogloss:0.14936\ttrain-mlogloss:0.02939\n",
      "[120]\teval-mlogloss:0.13071\ttrain-mlogloss:0.01704\n",
      "[140]\teval-mlogloss:0.11929\ttrain-mlogloss:0.01086\n",
      "[160]\teval-mlogloss:0.11196\ttrain-mlogloss:0.00755\n",
      "[180]\teval-mlogloss:0.10702\ttrain-mlogloss:0.00560\n",
      "[200]\teval-mlogloss:0.10371\ttrain-mlogloss:0.00439\n",
      "[220]\teval-mlogloss:0.10116\ttrain-mlogloss:0.00357\n",
      "[240]\teval-mlogloss:0.09917\ttrain-mlogloss:0.00300\n",
      "[260]\teval-mlogloss:0.09725\ttrain-mlogloss:0.00258\n",
      "[280]\teval-mlogloss:0.09589\ttrain-mlogloss:0.00227\n",
      "[300]\teval-mlogloss:0.09469\ttrain-mlogloss:0.00202\n",
      "[320]\teval-mlogloss:0.09360\ttrain-mlogloss:0.00183\n",
      "[340]\teval-mlogloss:0.09259\ttrain-mlogloss:0.00167\n",
      "[360]\teval-mlogloss:0.09180\ttrain-mlogloss:0.00153\n",
      "[380]\teval-mlogloss:0.09096\ttrain-mlogloss:0.00142\n",
      "[400]\teval-mlogloss:0.09027\ttrain-mlogloss:0.00133\n",
      "[420]\teval-mlogloss:0.08970\ttrain-mlogloss:0.00125\n",
      "[440]\teval-mlogloss:0.08923\ttrain-mlogloss:0.00118\n",
      "[460]\teval-mlogloss:0.08879\ttrain-mlogloss:0.00111\n",
      "[480]\teval-mlogloss:0.08840\ttrain-mlogloss:0.00106\n",
      "[500]\teval-mlogloss:0.08791\ttrain-mlogloss:0.00101\n",
      "[520]\teval-mlogloss:0.08749\ttrain-mlogloss:0.00097\n",
      "[540]\teval-mlogloss:0.08712\ttrain-mlogloss:0.00093\n",
      "[560]\teval-mlogloss:0.08685\ttrain-mlogloss:0.00089\n",
      "[580]\teval-mlogloss:0.08660\ttrain-mlogloss:0.00086\n",
      "[600]\teval-mlogloss:0.08638\ttrain-mlogloss:0.00083\n",
      "[620]\teval-mlogloss:0.08603\ttrain-mlogloss:0.00080\n",
      "[640]\teval-mlogloss:0.08582\ttrain-mlogloss:0.00078\n",
      "[660]\teval-mlogloss:0.08563\ttrain-mlogloss:0.00076\n",
      "[680]\teval-mlogloss:0.08546\ttrain-mlogloss:0.00073\n",
      "[700]\teval-mlogloss:0.08519\ttrain-mlogloss:0.00071\n",
      "[720]\teval-mlogloss:0.08499\ttrain-mlogloss:0.00069\n",
      "[740]\teval-mlogloss:0.08483\ttrain-mlogloss:0.00068\n",
      "[760]\teval-mlogloss:0.08466\ttrain-mlogloss:0.00066\n",
      "[780]\teval-mlogloss:0.08450\ttrain-mlogloss:0.00065\n",
      "[800]\teval-mlogloss:0.08440\ttrain-mlogloss:0.00063\n",
      "[820]\teval-mlogloss:0.08427\ttrain-mlogloss:0.00062\n",
      "[840]\teval-mlogloss:0.08414\ttrain-mlogloss:0.00061\n",
      "[860]\teval-mlogloss:0.08410\ttrain-mlogloss:0.00059\n",
      "[880]\teval-mlogloss:0.08401\ttrain-mlogloss:0.00058\n",
      "[900]\teval-mlogloss:0.08389\ttrain-mlogloss:0.00057\n",
      "[920]\teval-mlogloss:0.08378\ttrain-mlogloss:0.00056\n",
      "[940]\teval-mlogloss:0.08368\ttrain-mlogloss:0.00055\n",
      "[960]\teval-mlogloss:0.08359\ttrain-mlogloss:0.00054\n",
      "[980]\teval-mlogloss:0.08346\ttrain-mlogloss:0.00053\n",
      "[1000]\teval-mlogloss:0.08340\ttrain-mlogloss:0.00053\n",
      "[1020]\teval-mlogloss:0.08337\ttrain-mlogloss:0.00052\n",
      "[1040]\teval-mlogloss:0.08336\ttrain-mlogloss:0.00051\n",
      "[1060]\teval-mlogloss:0.08330\ttrain-mlogloss:0.00050\n",
      "[1080]\teval-mlogloss:0.08322\ttrain-mlogloss:0.00050\n",
      "[1100]\teval-mlogloss:0.08321\ttrain-mlogloss:0.00049\n",
      "[1120]\teval-mlogloss:0.08316\ttrain-mlogloss:0.00048\n",
      "[1140]\teval-mlogloss:0.08309\ttrain-mlogloss:0.00048\n",
      "[1160]\teval-mlogloss:0.08310\ttrain-mlogloss:0.00047\n",
      "[1180]\teval-mlogloss:0.08299\ttrain-mlogloss:0.00047\n",
      "[1200]\teval-mlogloss:0.08298\ttrain-mlogloss:0.00046\n",
      "[1220]\teval-mlogloss:0.08295\ttrain-mlogloss:0.00045\n",
      "[1240]\teval-mlogloss:0.08290\ttrain-mlogloss:0.00045\n",
      "[1260]\teval-mlogloss:0.08288\ttrain-mlogloss:0.00044\n",
      "[1280]\teval-mlogloss:0.08291\ttrain-mlogloss:0.00044\n",
      "[1300]\teval-mlogloss:0.08287\ttrain-mlogloss:0.00043\n",
      "[1320]\teval-mlogloss:0.08283\ttrain-mlogloss:0.00043\n",
      "[1340]\teval-mlogloss:0.08279\ttrain-mlogloss:0.00042\n",
      "[1360]\teval-mlogloss:0.08277\ttrain-mlogloss:0.00042\n",
      "[1380]\teval-mlogloss:0.08273\ttrain-mlogloss:0.00042\n",
      "[1400]\teval-mlogloss:0.08272\ttrain-mlogloss:0.00041\n",
      "[1420]\teval-mlogloss:0.08270\ttrain-mlogloss:0.00041\n",
      "[1440]\teval-mlogloss:0.08270\ttrain-mlogloss:0.00040\n",
      "[1460]\teval-mlogloss:0.08264\ttrain-mlogloss:0.00040\n",
      "[1480]\teval-mlogloss:0.08261\ttrain-mlogloss:0.00040\n",
      "[1500]\teval-mlogloss:0.08251\ttrain-mlogloss:0.00040\n",
      "[1520]\teval-mlogloss:0.08252\ttrain-mlogloss:0.00039\n",
      "[1540]\teval-mlogloss:0.08249\ttrain-mlogloss:0.00039\n",
      "[1560]\teval-mlogloss:0.08245\ttrain-mlogloss:0.00038\n",
      "[1580]\teval-mlogloss:0.08243\ttrain-mlogloss:0.00038\n",
      "[1600]\teval-mlogloss:0.08240\ttrain-mlogloss:0.00038\n",
      "[1620]\teval-mlogloss:0.08236\ttrain-mlogloss:0.00038\n",
      "[1640]\teval-mlogloss:0.08234\ttrain-mlogloss:0.00037\n",
      "[1660]\teval-mlogloss:0.08233\ttrain-mlogloss:0.00037\n",
      "[1680]\teval-mlogloss:0.08236\ttrain-mlogloss:0.00037\n",
      "[1700]\teval-mlogloss:0.08229\ttrain-mlogloss:0.00037\n",
      "[1720]\teval-mlogloss:0.08228\ttrain-mlogloss:0.00036\n",
      "[1740]\teval-mlogloss:0.08230\ttrain-mlogloss:0.00036\n",
      "[1760]\teval-mlogloss:0.08226\ttrain-mlogloss:0.00036\n",
      "[1780]\teval-mlogloss:0.08221\ttrain-mlogloss:0.00036\n",
      "[1800]\teval-mlogloss:0.08220\ttrain-mlogloss:0.00035\n",
      "[1820]\teval-mlogloss:0.08219\ttrain-mlogloss:0.00035\n",
      "[1840]\teval-mlogloss:0.08220\ttrain-mlogloss:0.00035\n",
      "[1860]\teval-mlogloss:0.08222\ttrain-mlogloss:0.00035\n",
      "[1880]\teval-mlogloss:0.08216\ttrain-mlogloss:0.00035\n",
      "[1900]\teval-mlogloss:0.08213\ttrain-mlogloss:0.00034\n",
      "[1920]\teval-mlogloss:0.08215\ttrain-mlogloss:0.00034\n",
      "[1940]\teval-mlogloss:0.08216\ttrain-mlogloss:0.00034\n",
      "[1960]\teval-mlogloss:0.08218\ttrain-mlogloss:0.00034\n",
      "[1980]\teval-mlogloss:0.08217\ttrain-mlogloss:0.00034\n",
      "[1999]\teval-mlogloss:0.08214\ttrain-mlogloss:0.00033\n"
     ]
    }
   ],
   "source": [
    "watchlist = [(dval,'eval'),(dtrain,'train')]\n",
    "\n",
    "xgb_params = {\n",
    "    'objective': 'multi:softmax',\n",
    "    'eval_metric': 'mlogloss',\n",
    "    'num_class': 10,\n",
    "    'max_depth': 12,\n",
    "    'eta': 0.05,\n",
    "    'subsample': 0.9,\n",
    "    'colsample_bytree': 0.9,\n",
    "}\n",
    "\n",
    "xgb_clf = xgb.train(xgb_params, dtrain, 2000,\n",
    "                   watchlist,\n",
    "                   early_stopping_rounds=20,\n",
    "                   verbose_eval=20)"
   ]
  },
  {
   "cell_type": "code",
   "execution_count": 15,
   "metadata": {
    "ExecuteTime": {
     "end_time": "2020-06-13T01:51:02.977071Z",
     "start_time": "2020-06-13T01:50:51.486990Z"
    }
   },
   "outputs": [],
   "source": [
    "res = xgb_clf.predict(xgb.DMatrix(test[col]))"
   ]
  },
  {
   "cell_type": "code",
   "execution_count": 87,
   "metadata": {
    "ExecuteTime": {
     "end_time": "2020-06-13T02:44:54.412140Z",
     "start_time": "2020-06-13T02:44:54.341977Z"
    }
   },
   "outputs": [],
   "source": [
    "sample_submission['Label'] = res\n",
    "sample_submission.to_csv('submission.csv', index=False)"
   ]
  },
  {
   "cell_type": "markdown",
   "metadata": {},
   "source": [
    "---"
   ]
  },
  {
   "cell_type": "markdown",
   "metadata": {},
   "source": [
    "# ver 2 xgboost"
   ]
  },
  {
   "cell_type": "code",
   "execution_count": 105,
   "metadata": {
    "ExecuteTime": {
     "end_time": "2020-06-13T03:19:08.260323Z",
     "start_time": "2020-06-13T03:19:07.961452Z"
    }
   },
   "outputs": [],
   "source": [
    "y = train_backup.label.values\n",
    "X = train_backup.drop('label', axis=1).values\n",
    "test = test_backup.copy()\n",
    "X[X>0] = 1"
   ]
  },
  {
   "cell_type": "code",
   "execution_count": 106,
   "metadata": {
    "ExecuteTime": {
     "end_time": "2020-06-13T03:19:12.769804Z",
     "start_time": "2020-06-13T03:19:12.259736Z"
    }
   },
   "outputs": [
    {
     "name": "stdout",
     "output_type": "stream",
     "text": [
      "(37800, 784) (4200, 784) (37800,) (4200,)\n"
     ]
    }
   ],
   "source": [
    "X_train, X_val, y_train, y_val = train_test_split(X, y, test_size=0.1)\n",
    "print(X_train.shape, X_val.shape, y_train.shape, y_val.shape)"
   ]
  },
  {
   "cell_type": "code",
   "execution_count": 107,
   "metadata": {
    "ExecuteTime": {
     "end_time": "2020-06-13T03:26:39.285867Z",
     "start_time": "2020-06-13T03:19:15.627777Z"
    }
   },
   "outputs": [
    {
     "name": "stdout",
     "output_type": "stream",
     "text": [
      "[10:19:16] WARNING: C:\\Users\\Administrator\\workspace\\xgboost-win64_release_1.1.0\\src\\learner.cc:480: \n",
      "Parameters: { early_stopping_rounds, eta_decay, min_eta, n_estimators, silent } might not be used.\n",
      "\n",
      "  This may not be accurate due to some parameters are only used in language bindings but\n",
      "  passed down to XGBoost core.  Or some parameters are not used but slip through this\n",
      "  verification. Please open an issue if you find above cases.\n",
      "\n",
      "\n",
      "[0]\tval-merror:0.19024\tval-acc:0.80976\n",
      "[1]\tval-merror:0.14000\tval-acc:0.86000\n",
      "[2]\tval-merror:0.11690\tval-acc:0.88309\n",
      "[3]\tval-merror:0.10881\tval-acc:0.89119\n",
      "[4]\tval-merror:0.09738\tval-acc:0.90262\n",
      "[5]\tval-merror:0.08857\tval-acc:0.91143\n",
      "[6]\tval-merror:0.08119\tval-acc:0.91881\n",
      "[7]\tval-merror:0.07809\tval-acc:0.92190\n",
      "[8]\tval-merror:0.07190\tval-acc:0.92810\n",
      "[9]\tval-merror:0.07048\tval-acc:0.92952\n",
      "[10]\tval-merror:0.06548\tval-acc:0.93452\n",
      "[11]\tval-merror:0.06143\tval-acc:0.93857\n",
      "[12]\tval-merror:0.05810\tval-acc:0.94190\n",
      "[13]\tval-merror:0.05524\tval-acc:0.94476\n",
      "[14]\tval-merror:0.05190\tval-acc:0.94810\n",
      "[15]\tval-merror:0.05119\tval-acc:0.94881\n",
      "[16]\tval-merror:0.04929\tval-acc:0.95071\n",
      "[17]\tval-merror:0.04667\tval-acc:0.95333\n",
      "[18]\tval-merror:0.04571\tval-acc:0.95429\n",
      "[19]\tval-merror:0.04476\tval-acc:0.95524\n",
      "[20]\tval-merror:0.04333\tval-acc:0.95667\n",
      "[21]\tval-merror:0.04214\tval-acc:0.95786\n",
      "[22]\tval-merror:0.04048\tval-acc:0.95952\n",
      "[23]\tval-merror:0.04000\tval-acc:0.96000\n",
      "[24]\tval-merror:0.03762\tval-acc:0.96238\n",
      "[25]\tval-merror:0.03786\tval-acc:0.96214\n",
      "[26]\tval-merror:0.03786\tval-acc:0.96214\n",
      "[27]\tval-merror:0.03738\tval-acc:0.96262\n",
      "[28]\tval-merror:0.03738\tval-acc:0.96262\n",
      "[29]\tval-merror:0.03714\tval-acc:0.96286\n",
      "[30]\tval-merror:0.03667\tval-acc:0.96333\n",
      "[31]\tval-merror:0.03714\tval-acc:0.96286\n",
      "[32]\tval-merror:0.03619\tval-acc:0.96381\n",
      "[33]\tval-merror:0.03429\tval-acc:0.96571\n",
      "[34]\tval-merror:0.03452\tval-acc:0.96548\n",
      "[35]\tval-merror:0.03381\tval-acc:0.96619\n",
      "[36]\tval-merror:0.03309\tval-acc:0.96691\n",
      "[37]\tval-merror:0.03309\tval-acc:0.96691\n",
      "[38]\tval-merror:0.03286\tval-acc:0.96714\n",
      "[39]\tval-merror:0.03286\tval-acc:0.96714\n",
      "[40]\tval-merror:0.03262\tval-acc:0.96738\n",
      "[41]\tval-merror:0.03167\tval-acc:0.96833\n",
      "[42]\tval-merror:0.03119\tval-acc:0.96881\n",
      "[43]\tval-merror:0.03119\tval-acc:0.96881\n",
      "[44]\tval-merror:0.03119\tval-acc:0.96881\n",
      "[45]\tval-merror:0.03071\tval-acc:0.96929\n",
      "[46]\tval-merror:0.03095\tval-acc:0.96905\n",
      "[47]\tval-merror:0.03024\tval-acc:0.96976\n",
      "[48]\tval-merror:0.03000\tval-acc:0.97000\n",
      "[49]\tval-merror:0.03024\tval-acc:0.96976\n",
      "[50]\tval-merror:0.02952\tval-acc:0.97048\n",
      "[51]\tval-merror:0.02952\tval-acc:0.97048\n",
      "[52]\tval-merror:0.02952\tval-acc:0.97048\n",
      "[53]\tval-merror:0.02857\tval-acc:0.97143\n",
      "[54]\tval-merror:0.02833\tval-acc:0.97167\n",
      "[55]\tval-merror:0.02809\tval-acc:0.97191\n",
      "[56]\tval-merror:0.02762\tval-acc:0.97238\n",
      "[57]\tval-merror:0.02809\tval-acc:0.97191\n",
      "[58]\tval-merror:0.02833\tval-acc:0.97167\n",
      "[59]\tval-merror:0.02786\tval-acc:0.97214\n",
      "[60]\tval-merror:0.02786\tval-acc:0.97214\n",
      "[61]\tval-merror:0.02762\tval-acc:0.97238\n",
      "[62]\tval-merror:0.02714\tval-acc:0.97286\n",
      "[63]\tval-merror:0.02690\tval-acc:0.97310\n",
      "[64]\tval-merror:0.02714\tval-acc:0.97286\n",
      "[65]\tval-merror:0.02690\tval-acc:0.97310\n",
      "[66]\tval-merror:0.02667\tval-acc:0.97333\n",
      "[67]\tval-merror:0.02619\tval-acc:0.97381\n",
      "[68]\tval-merror:0.02643\tval-acc:0.97357\n",
      "[69]\tval-merror:0.02619\tval-acc:0.97381\n",
      "[70]\tval-merror:0.02571\tval-acc:0.97429\n",
      "[71]\tval-merror:0.02548\tval-acc:0.97452\n",
      "[72]\tval-merror:0.02619\tval-acc:0.97381\n",
      "[73]\tval-merror:0.02643\tval-acc:0.97357\n",
      "[74]\tval-merror:0.02548\tval-acc:0.97452\n",
      "[75]\tval-merror:0.02524\tval-acc:0.97476\n",
      "[76]\tval-merror:0.02500\tval-acc:0.97500\n",
      "[77]\tval-merror:0.02500\tval-acc:0.97500\n",
      "[78]\tval-merror:0.02619\tval-acc:0.97381\n",
      "[79]\tval-merror:0.02548\tval-acc:0.97452\n",
      "[80]\tval-merror:0.02524\tval-acc:0.97476\n",
      "[81]\tval-merror:0.02476\tval-acc:0.97524\n",
      "[82]\tval-merror:0.02524\tval-acc:0.97476\n",
      "[83]\tval-merror:0.02500\tval-acc:0.97500\n",
      "[84]\tval-merror:0.02500\tval-acc:0.97500\n",
      "[85]\tval-merror:0.02476\tval-acc:0.97524\n",
      "[86]\tval-merror:0.02476\tval-acc:0.97524\n",
      "[87]\tval-merror:0.02476\tval-acc:0.97524\n",
      "[88]\tval-merror:0.02452\tval-acc:0.97548\n",
      "[89]\tval-merror:0.02524\tval-acc:0.97476\n",
      "[90]\tval-merror:0.02524\tval-acc:0.97476\n",
      "[91]\tval-merror:0.02548\tval-acc:0.97452\n",
      "[92]\tval-merror:0.02500\tval-acc:0.97500\n",
      "[93]\tval-merror:0.02476\tval-acc:0.97524\n",
      "[94]\tval-merror:0.02476\tval-acc:0.97524\n",
      "[95]\tval-merror:0.02476\tval-acc:0.97524\n",
      "[96]\tval-merror:0.02500\tval-acc:0.97500\n",
      "[97]\tval-merror:0.02500\tval-acc:0.97500\n",
      "[98]\tval-merror:0.02429\tval-acc:0.97571\n",
      "[99]\tval-merror:0.02429\tval-acc:0.97571\n"
     ]
    }
   ],
   "source": [
    "dtrain = xgb.DMatrix(X_train, label=y_train)\n",
    "dval = xgb.DMatrix(X_val, label=y_val)\n",
    "\n",
    "params = {\n",
    "    'max_depth': 5,                 # the maximum depth of each tree\n",
    "    'eta': 0.5,                     # the training step for each iteration\n",
    "    'eta_decay': 0.9,\n",
    "    'min_eta': 0.05,\n",
    "    'silent': 0,                    # logging mode - quiet\n",
    "    'objective': 'multi:softmax',   # multiclass classification using the softmax objective\n",
    "    'num_class': 10,                # the number of classes that exist in this datset\n",
    "    'early_stopping_rounds': 10,\n",
    "    'n_estimators': 5000\n",
    "}  \n",
    "\n",
    "def eval_acc(preds, dtrain):\n",
    "    labels = dtrain.get_label()\n",
    "    return 'acc', metrics.accuracy_score(labels, preds)\n",
    "\n",
    "results = {}\n",
    "model = xgb.train(params, dtrain, num_boost_round=100, evals=[(dval, 'val')], evals_result=results, feval=eval_acc)"
   ]
  },
  {
   "cell_type": "markdown",
   "metadata": {},
   "source": [
    "## adding 1/0 to features"
   ]
  },
  {
   "cell_type": "code",
   "execution_count": 98,
   "metadata": {
    "ExecuteTime": {
     "end_time": "2020-06-13T03:13:25.361831Z",
     "start_time": "2020-06-13T03:13:24.225832Z"
    }
   },
   "outputs": [],
   "source": [
    "y = train.label.values\n",
    "X = train.drop('label', axis=1).values\n",
    "test[test>0] = 1\n",
    "X[X>0] = 1"
   ]
  },
  {
   "cell_type": "code",
   "execution_count": 99,
   "metadata": {
    "ExecuteTime": {
     "end_time": "2020-06-13T03:13:28.034301Z",
     "start_time": "2020-06-13T03:13:27.465278Z"
    }
   },
   "outputs": [
    {
     "name": "stdout",
     "output_type": "stream",
     "text": [
      "(37800, 784) (4200, 784) (37800,) (4200,)\n"
     ]
    }
   ],
   "source": [
    "X_train, X_val, y_train, y_val = train_test_split(X, y, test_size=0.1)\n",
    "print(X_train.shape, X_val.shape, y_train.shape, y_val.shape)"
   ]
  },
  {
   "cell_type": "code",
   "execution_count": 94,
   "metadata": {
    "ExecuteTime": {
     "end_time": "2020-06-13T03:12:06.289687Z",
     "start_time": "2020-06-13T03:04:31.760301Z"
    }
   },
   "outputs": [
    {
     "name": "stdout",
     "output_type": "stream",
     "text": [
      "[10:04:32] WARNING: C:\\Users\\Administrator\\workspace\\xgboost-win64_release_1.1.0\\src\\learner.cc:480: \n",
      "Parameters: { early_stopping_rounds, eta_decay, min_eta, n_estimators, silent } might not be used.\n",
      "\n",
      "  This may not be accurate due to some parameters are only used in language bindings but\n",
      "  passed down to XGBoost core.  Or some parameters are not used but slip through this\n",
      "  verification. Please open an issue if you find above cases.\n",
      "\n",
      "\n",
      "[0]\tval-merror:0.16976\tval-acc:0.83024\n",
      "[1]\tval-merror:0.12738\tval-acc:0.87262\n",
      "[2]\tval-merror:0.11500\tval-acc:0.88500\n",
      "[3]\tval-merror:0.10024\tval-acc:0.89976\n",
      "[4]\tval-merror:0.08929\tval-acc:0.91071\n",
      "[5]\tval-merror:0.08310\tval-acc:0.91690\n",
      "[6]\tval-merror:0.07881\tval-acc:0.92119\n",
      "[7]\tval-merror:0.07214\tval-acc:0.92786\n",
      "[8]\tval-merror:0.07024\tval-acc:0.92976\n",
      "[9]\tval-merror:0.06405\tval-acc:0.93595\n",
      "[10]\tval-merror:0.06095\tval-acc:0.93905\n",
      "[11]\tval-merror:0.05857\tval-acc:0.94143\n",
      "[12]\tval-merror:0.05381\tval-acc:0.94619\n",
      "[13]\tval-merror:0.05214\tval-acc:0.94786\n",
      "[14]\tval-merror:0.05071\tval-acc:0.94929\n",
      "[15]\tval-merror:0.04762\tval-acc:0.95238\n",
      "[16]\tval-merror:0.04667\tval-acc:0.95333\n",
      "[17]\tval-merror:0.04405\tval-acc:0.95595\n",
      "[18]\tval-merror:0.04333\tval-acc:0.95667\n",
      "[19]\tval-merror:0.04167\tval-acc:0.95833\n",
      "[20]\tval-merror:0.04119\tval-acc:0.95881\n",
      "[21]\tval-merror:0.04095\tval-acc:0.95905\n",
      "[22]\tval-merror:0.03929\tval-acc:0.96071\n",
      "[23]\tval-merror:0.03762\tval-acc:0.96238\n",
      "[24]\tval-merror:0.03738\tval-acc:0.96262\n",
      "[25]\tval-merror:0.03619\tval-acc:0.96381\n",
      "[26]\tval-merror:0.03691\tval-acc:0.96310\n",
      "[27]\tval-merror:0.03548\tval-acc:0.96452\n",
      "[28]\tval-merror:0.03595\tval-acc:0.96405\n",
      "[29]\tval-merror:0.03571\tval-acc:0.96429\n",
      "[30]\tval-merror:0.03429\tval-acc:0.96571\n",
      "[31]\tval-merror:0.03357\tval-acc:0.96643\n",
      "[32]\tval-merror:0.03333\tval-acc:0.96667\n",
      "[33]\tval-merror:0.03405\tval-acc:0.96595\n",
      "[34]\tval-merror:0.03381\tval-acc:0.96619\n",
      "[35]\tval-merror:0.03262\tval-acc:0.96738\n",
      "[36]\tval-merror:0.03191\tval-acc:0.96810\n",
      "[37]\tval-merror:0.03191\tval-acc:0.96810\n",
      "[38]\tval-merror:0.03191\tval-acc:0.96810\n",
      "[39]\tval-merror:0.03214\tval-acc:0.96786\n",
      "[40]\tval-merror:0.03238\tval-acc:0.96762\n",
      "[41]\tval-merror:0.03167\tval-acc:0.96833\n",
      "[42]\tval-merror:0.03167\tval-acc:0.96833\n",
      "[43]\tval-merror:0.03071\tval-acc:0.96929\n",
      "[44]\tval-merror:0.03095\tval-acc:0.96905\n",
      "[45]\tval-merror:0.03071\tval-acc:0.96929\n",
      "[46]\tval-merror:0.03119\tval-acc:0.96881\n",
      "[47]\tval-merror:0.03048\tval-acc:0.96952\n",
      "[48]\tval-merror:0.02881\tval-acc:0.97119\n",
      "[49]\tval-merror:0.02905\tval-acc:0.97095\n",
      "[50]\tval-merror:0.02857\tval-acc:0.97143\n",
      "[51]\tval-merror:0.02809\tval-acc:0.97191\n",
      "[52]\tval-merror:0.02738\tval-acc:0.97262\n",
      "[53]\tval-merror:0.02809\tval-acc:0.97191\n",
      "[54]\tval-merror:0.02714\tval-acc:0.97286\n",
      "[55]\tval-merror:0.02690\tval-acc:0.97310\n",
      "[56]\tval-merror:0.02643\tval-acc:0.97357\n",
      "[57]\tval-merror:0.02667\tval-acc:0.97333\n",
      "[58]\tval-merror:0.02595\tval-acc:0.97405\n",
      "[59]\tval-merror:0.02595\tval-acc:0.97405\n",
      "[60]\tval-merror:0.02667\tval-acc:0.97333\n",
      "[61]\tval-merror:0.02619\tval-acc:0.97381\n",
      "[62]\tval-merror:0.02571\tval-acc:0.97429\n",
      "[63]\tval-merror:0.02548\tval-acc:0.97452\n",
      "[64]\tval-merror:0.02500\tval-acc:0.97500\n",
      "[65]\tval-merror:0.02500\tval-acc:0.97500\n",
      "[66]\tval-merror:0.02476\tval-acc:0.97524\n",
      "[67]\tval-merror:0.02476\tval-acc:0.97524\n",
      "[68]\tval-merror:0.02476\tval-acc:0.97524\n",
      "[69]\tval-merror:0.02500\tval-acc:0.97500\n",
      "[70]\tval-merror:0.02452\tval-acc:0.97548\n",
      "[71]\tval-merror:0.02452\tval-acc:0.97548\n",
      "[72]\tval-merror:0.02500\tval-acc:0.97500\n",
      "[73]\tval-merror:0.02429\tval-acc:0.97571\n",
      "[74]\tval-merror:0.02524\tval-acc:0.97476\n",
      "[75]\tval-merror:0.02500\tval-acc:0.97500\n",
      "[76]\tval-merror:0.02500\tval-acc:0.97500\n",
      "[77]\tval-merror:0.02476\tval-acc:0.97524\n",
      "[78]\tval-merror:0.02452\tval-acc:0.97548\n",
      "[79]\tval-merror:0.02476\tval-acc:0.97524\n",
      "[80]\tval-merror:0.02500\tval-acc:0.97500\n",
      "[81]\tval-merror:0.02452\tval-acc:0.97548\n",
      "[82]\tval-merror:0.02405\tval-acc:0.97595\n",
      "[83]\tval-merror:0.02405\tval-acc:0.97595\n",
      "[84]\tval-merror:0.02357\tval-acc:0.97643\n",
      "[85]\tval-merror:0.02357\tval-acc:0.97643\n",
      "[86]\tval-merror:0.02357\tval-acc:0.97643\n",
      "[87]\tval-merror:0.02357\tval-acc:0.97643\n",
      "[88]\tval-merror:0.02357\tval-acc:0.97643\n",
      "[89]\tval-merror:0.02310\tval-acc:0.97691\n",
      "[90]\tval-merror:0.02310\tval-acc:0.97691\n",
      "[91]\tval-merror:0.02286\tval-acc:0.97714\n",
      "[92]\tval-merror:0.02310\tval-acc:0.97691\n",
      "[93]\tval-merror:0.02333\tval-acc:0.97667\n",
      "[94]\tval-merror:0.02238\tval-acc:0.97762\n",
      "[95]\tval-merror:0.02286\tval-acc:0.97714\n",
      "[96]\tval-merror:0.02286\tval-acc:0.97714\n",
      "[97]\tval-merror:0.02310\tval-acc:0.97691\n",
      "[98]\tval-merror:0.02310\tval-acc:0.97691\n",
      "[99]\tval-merror:0.02262\tval-acc:0.97738\n"
     ]
    }
   ],
   "source": [
    "dtrain = xgb.DMatrix(X_train, label=y_train)\n",
    "dval = xgb.DMatrix(X_val, label=y_val)\n",
    "\n",
    "params = {\n",
    "    'max_depth': 5,                 # the maximum depth of each tree\n",
    "    'eta': 0.5,                     # the training step for each iteration\n",
    "    'eta_decay': 0.9,\n",
    "    'min_eta': 0.05,\n",
    "    'silent': 0,                    # logging mode - quiet\n",
    "    'objective': 'multi:softmax',   # multiclass classification using the softmax objective\n",
    "    'num_class': 10,                # the number of classes that exist in this datset\n",
    "    'early_stopping_rounds': 10,\n",
    "    'n_estimators': 5000\n",
    "}  \n",
    "\n",
    "def eval_acc(preds, dtrain):\n",
    "    labels = dtrain.get_label()\n",
    "    return 'acc', metrics.accuracy_score(labels, preds)\n",
    "\n",
    "results = {}\n",
    "model = xgb.train(params, dtrain, num_boost_round=100, evals=[(dval, 'val')], evals_result=results, feval=eval_acc)"
   ]
  },
  {
   "cell_type": "code",
   "execution_count": 100,
   "metadata": {
    "ExecuteTime": {
     "end_time": "2020-06-13T03:13:37.468183Z",
     "start_time": "2020-06-13T03:13:36.866232Z"
    }
   },
   "outputs": [],
   "source": [
    "x_test = test.values\n",
    "dtest = xgb.DMatrix(x_test)"
   ]
  },
  {
   "cell_type": "code",
   "execution_count": 101,
   "metadata": {
    "ExecuteTime": {
     "end_time": "2020-06-13T03:13:38.436542Z",
     "start_time": "2020-06-13T03:13:37.874551Z"
    }
   },
   "outputs": [
    {
     "name": "stdout",
     "output_type": "stream",
     "text": [
      "(28000,)\n"
     ]
    },
    {
     "data": {
      "text/plain": [
       "array([2., 0.], dtype=float32)"
      ]
     },
     "execution_count": 101,
     "metadata": {},
     "output_type": "execute_result"
    }
   ],
   "source": [
    "preds = model.predict(dtest)\n",
    "print(preds.shape)\n",
    "preds[:2]"
   ]
  },
  {
   "cell_type": "code",
   "execution_count": 102,
   "metadata": {
    "ExecuteTime": {
     "end_time": "2020-06-13T03:13:49.797168Z",
     "start_time": "2020-06-13T03:13:49.793132Z"
    }
   },
   "outputs": [],
   "source": [
    "sample_submission_v2.Label = preds.astype(np.int32)"
   ]
  },
  {
   "cell_type": "code",
   "execution_count": 103,
   "metadata": {
    "ExecuteTime": {
     "end_time": "2020-06-13T03:13:50.770874Z",
     "start_time": "2020-06-13T03:13:50.702658Z"
    }
   },
   "outputs": [],
   "source": [
    "sample_submission_v2.to_csv('submission_v2.csv', index=False)"
   ]
  },
  {
   "cell_type": "markdown",
   "metadata": {},
   "source": [
    "# XGBOOST ver 3, PCA - t-SNE"
   ]
  },
  {
   "cell_type": "code",
   "execution_count": 6,
   "metadata": {
    "ExecuteTime": {
     "end_time": "2020-06-21T16:31:55.880976Z",
     "start_time": "2020-06-21T16:31:54.981850Z"
    }
   },
   "outputs": [],
   "source": [
    "y = train_backup.label.values\n",
    "X = train_backup.drop('label', axis=1).values\n",
    "test = test_backup.copy()\n",
    "X[X>0] = 1\n",
    "\n",
    "from sklearn.manifold import TSNE"
   ]
  },
  {
   "cell_type": "code",
   "execution_count": 8,
   "metadata": {
    "ExecuteTime": {
     "end_time": "2020-06-21T16:32:15.641658Z",
     "start_time": "2020-06-21T16:32:10.226956Z"
    }
   },
   "outputs": [],
   "source": [
    "from sklearn.decomposition import PCA\n",
    "pca_161 = PCA(n_components=150)\n",
    "pca_result_161 = pca_161.fit_transform(X)"
   ]
  },
  {
   "cell_type": "code",
   "execution_count": 10,
   "metadata": {
    "ExecuteTime": {
     "end_time": "2020-06-21T18:54:47.123048Z",
     "start_time": "2020-06-21T17:01:28.889713Z"
    }
   },
   "outputs": [],
   "source": [
    "pca_tsne = TSNE(random_state = 7, n_components=2, verbose=0, perplexity=30, n_iter=300).fit_transform(pca_result_161)"
   ]
  }
 ],
 "metadata": {
  "kernelspec": {
   "display_name": "Python 3",
   "language": "python",
   "name": "python3"
  },
  "language_info": {
   "codemirror_mode": {
    "name": "ipython",
    "version": 3
   },
   "file_extension": ".py",
   "mimetype": "text/x-python",
   "name": "python",
   "nbconvert_exporter": "python",
   "pygments_lexer": "ipython3",
   "version": "3.7.1"
  },
  "toc": {
   "base_numbering": 1,
   "nav_menu": {},
   "number_sections": true,
   "sideBar": true,
   "skip_h1_title": false,
   "title_cell": "Table of Contents",
   "title_sidebar": "Contents",
   "toc_cell": false,
   "toc_position": {
    "height": "calc(100% - 180px)",
    "left": "10px",
    "top": "150px",
    "width": "226.962px"
   },
   "toc_section_display": true,
   "toc_window_display": true
  }
 },
 "nbformat": 4,
 "nbformat_minor": 2
}
