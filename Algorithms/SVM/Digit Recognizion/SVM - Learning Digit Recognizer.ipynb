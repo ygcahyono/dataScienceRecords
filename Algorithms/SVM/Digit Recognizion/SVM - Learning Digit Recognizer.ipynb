{
 "cells": [
  {
   "cell_type": "code",
   "execution_count": 4,
   "metadata": {
    "ExecuteTime": {
     "end_time": "2020-05-22T07:46:01.683448Z",
     "start_time": "2020-05-22T07:46:01.675016Z"
    }
   },
   "outputs": [
    {
     "name": "stdout",
     "output_type": "stream",
     "text": [
      "['test.csv', 'train.csv']\n"
     ]
    }
   ],
   "source": [
    "import numpy as np\n",
    "import pandas as pd\n",
    "import os \n",
    "from sklearn.model_selection import train_test_split\n",
    "import matplotlib.pyplot as plt, matplotlib.image as mpimg\n",
    "import time \n",
    "import warnings\n",
    "from sklearn import svm\n",
    "from sklearn.model_selection import GridSearchCV\n",
    "\n",
    "%matplotlib inline\n",
    "warnings.filterwarnings('ignore')\n",
    "\n",
    "print(os.listdir(\"../Input Files/Digit Recognizer\"))"
   ]
  },
  {
   "cell_type": "code",
   "execution_count": 14,
   "metadata": {
    "ExecuteTime": {
     "end_time": "2020-05-22T07:51:06.547283Z",
     "start_time": "2020-05-22T07:51:04.543907Z"
    }
   },
   "outputs": [],
   "source": [
    "data = pd.read_csv('../Input Files/Digit Recognizer/train.csv')"
   ]
  },
  {
   "cell_type": "code",
   "execution_count": 15,
   "metadata": {
    "ExecuteTime": {
     "end_time": "2020-05-22T07:51:06.568081Z",
     "start_time": "2020-05-22T07:51:06.548737Z"
    }
   },
   "outputs": [
    {
     "data": {
      "text/html": [
       "<div>\n",
       "<style scoped>\n",
       "    .dataframe tbody tr th:only-of-type {\n",
       "        vertical-align: middle;\n",
       "    }\n",
       "\n",
       "    .dataframe tbody tr th {\n",
       "        vertical-align: top;\n",
       "    }\n",
       "\n",
       "    .dataframe thead th {\n",
       "        text-align: right;\n",
       "    }\n",
       "</style>\n",
       "<table border=\"1\" class=\"dataframe\">\n",
       "  <thead>\n",
       "    <tr style=\"text-align: right;\">\n",
       "      <th></th>\n",
       "      <th>label</th>\n",
       "      <th>pixel0</th>\n",
       "      <th>pixel1</th>\n",
       "      <th>pixel2</th>\n",
       "      <th>pixel3</th>\n",
       "      <th>pixel4</th>\n",
       "      <th>pixel5</th>\n",
       "      <th>pixel6</th>\n",
       "      <th>pixel7</th>\n",
       "      <th>pixel8</th>\n",
       "      <th>...</th>\n",
       "      <th>pixel774</th>\n",
       "      <th>pixel775</th>\n",
       "      <th>pixel776</th>\n",
       "      <th>pixel777</th>\n",
       "      <th>pixel778</th>\n",
       "      <th>pixel779</th>\n",
       "      <th>pixel780</th>\n",
       "      <th>pixel781</th>\n",
       "      <th>pixel782</th>\n",
       "      <th>pixel783</th>\n",
       "    </tr>\n",
       "  </thead>\n",
       "  <tbody>\n",
       "    <tr>\n",
       "      <th>0</th>\n",
       "      <td>1</td>\n",
       "      <td>0</td>\n",
       "      <td>0</td>\n",
       "      <td>0</td>\n",
       "      <td>0</td>\n",
       "      <td>0</td>\n",
       "      <td>0</td>\n",
       "      <td>0</td>\n",
       "      <td>0</td>\n",
       "      <td>0</td>\n",
       "      <td>...</td>\n",
       "      <td>0</td>\n",
       "      <td>0</td>\n",
       "      <td>0</td>\n",
       "      <td>0</td>\n",
       "      <td>0</td>\n",
       "      <td>0</td>\n",
       "      <td>0</td>\n",
       "      <td>0</td>\n",
       "      <td>0</td>\n",
       "      <td>0</td>\n",
       "    </tr>\n",
       "    <tr>\n",
       "      <th>1</th>\n",
       "      <td>0</td>\n",
       "      <td>0</td>\n",
       "      <td>0</td>\n",
       "      <td>0</td>\n",
       "      <td>0</td>\n",
       "      <td>0</td>\n",
       "      <td>0</td>\n",
       "      <td>0</td>\n",
       "      <td>0</td>\n",
       "      <td>0</td>\n",
       "      <td>...</td>\n",
       "      <td>0</td>\n",
       "      <td>0</td>\n",
       "      <td>0</td>\n",
       "      <td>0</td>\n",
       "      <td>0</td>\n",
       "      <td>0</td>\n",
       "      <td>0</td>\n",
       "      <td>0</td>\n",
       "      <td>0</td>\n",
       "      <td>0</td>\n",
       "    </tr>\n",
       "    <tr>\n",
       "      <th>2</th>\n",
       "      <td>1</td>\n",
       "      <td>0</td>\n",
       "      <td>0</td>\n",
       "      <td>0</td>\n",
       "      <td>0</td>\n",
       "      <td>0</td>\n",
       "      <td>0</td>\n",
       "      <td>0</td>\n",
       "      <td>0</td>\n",
       "      <td>0</td>\n",
       "      <td>...</td>\n",
       "      <td>0</td>\n",
       "      <td>0</td>\n",
       "      <td>0</td>\n",
       "      <td>0</td>\n",
       "      <td>0</td>\n",
       "      <td>0</td>\n",
       "      <td>0</td>\n",
       "      <td>0</td>\n",
       "      <td>0</td>\n",
       "      <td>0</td>\n",
       "    </tr>\n",
       "    <tr>\n",
       "      <th>3</th>\n",
       "      <td>4</td>\n",
       "      <td>0</td>\n",
       "      <td>0</td>\n",
       "      <td>0</td>\n",
       "      <td>0</td>\n",
       "      <td>0</td>\n",
       "      <td>0</td>\n",
       "      <td>0</td>\n",
       "      <td>0</td>\n",
       "      <td>0</td>\n",
       "      <td>...</td>\n",
       "      <td>0</td>\n",
       "      <td>0</td>\n",
       "      <td>0</td>\n",
       "      <td>0</td>\n",
       "      <td>0</td>\n",
       "      <td>0</td>\n",
       "      <td>0</td>\n",
       "      <td>0</td>\n",
       "      <td>0</td>\n",
       "      <td>0</td>\n",
       "    </tr>\n",
       "    <tr>\n",
       "      <th>4</th>\n",
       "      <td>0</td>\n",
       "      <td>0</td>\n",
       "      <td>0</td>\n",
       "      <td>0</td>\n",
       "      <td>0</td>\n",
       "      <td>0</td>\n",
       "      <td>0</td>\n",
       "      <td>0</td>\n",
       "      <td>0</td>\n",
       "      <td>0</td>\n",
       "      <td>...</td>\n",
       "      <td>0</td>\n",
       "      <td>0</td>\n",
       "      <td>0</td>\n",
       "      <td>0</td>\n",
       "      <td>0</td>\n",
       "      <td>0</td>\n",
       "      <td>0</td>\n",
       "      <td>0</td>\n",
       "      <td>0</td>\n",
       "      <td>0</td>\n",
       "    </tr>\n",
       "  </tbody>\n",
       "</table>\n",
       "<p>5 rows × 785 columns</p>\n",
       "</div>"
      ],
      "text/plain": [
       "   label  pixel0  pixel1  pixel2  pixel3  pixel4  pixel5  pixel6  pixel7  \\\n",
       "0      1       0       0       0       0       0       0       0       0   \n",
       "1      0       0       0       0       0       0       0       0       0   \n",
       "2      1       0       0       0       0       0       0       0       0   \n",
       "3      4       0       0       0       0       0       0       0       0   \n",
       "4      0       0       0       0       0       0       0       0       0   \n",
       "\n",
       "   pixel8  ...  pixel774  pixel775  pixel776  pixel777  pixel778  pixel779  \\\n",
       "0       0  ...         0         0         0         0         0         0   \n",
       "1       0  ...         0         0         0         0         0         0   \n",
       "2       0  ...         0         0         0         0         0         0   \n",
       "3       0  ...         0         0         0         0         0         0   \n",
       "4       0  ...         0         0         0         0         0         0   \n",
       "\n",
       "   pixel780  pixel781  pixel782  pixel783  \n",
       "0         0         0         0         0  \n",
       "1         0         0         0         0  \n",
       "2         0         0         0         0  \n",
       "3         0         0         0         0  \n",
       "4         0         0         0         0  \n",
       "\n",
       "[5 rows x 785 columns]"
      ]
     },
     "execution_count": 15,
     "metadata": {},
     "output_type": "execute_result"
    }
   ],
   "source": [
    "data.head()"
   ]
  },
  {
   "cell_type": "code",
   "execution_count": 16,
   "metadata": {
    "ExecuteTime": {
     "end_time": "2020-05-22T07:51:06.699521Z",
     "start_time": "2020-05-22T07:51:06.572050Z"
    }
   },
   "outputs": [
    {
     "name": "stdout",
     "output_type": "stream",
     "text": [
      "Data Shape:  (42000, 784)\n",
      "Label Shape:  (42000,)\n"
     ]
    }
   ],
   "source": [
    "label = data.label\n",
    "data = data.drop('label',axis=1)\n",
    "print(\"Data Shape: \",data.shape)\n",
    "print(\"Label Shape: \", label.shape)"
   ]
  },
  {
   "cell_type": "code",
   "execution_count": 23,
   "metadata": {
    "ExecuteTime": {
     "end_time": "2020-05-22T07:55:19.042968Z",
     "start_time": "2020-05-22T07:55:19.029082Z"
    }
   },
   "outputs": [
    {
     "data": {
      "text/html": [
       "<div>\n",
       "<style scoped>\n",
       "    .dataframe tbody tr th:only-of-type {\n",
       "        vertical-align: middle;\n",
       "    }\n",
       "\n",
       "    .dataframe tbody tr th {\n",
       "        vertical-align: top;\n",
       "    }\n",
       "\n",
       "    .dataframe thead th {\n",
       "        text-align: right;\n",
       "    }\n",
       "</style>\n",
       "<table border=\"1\" class=\"dataframe\">\n",
       "  <thead>\n",
       "    <tr style=\"text-align: right;\">\n",
       "      <th></th>\n",
       "      <th>pixel0</th>\n",
       "      <th>pixel1</th>\n",
       "      <th>pixel2</th>\n",
       "      <th>pixel3</th>\n",
       "      <th>pixel4</th>\n",
       "      <th>pixel5</th>\n",
       "      <th>pixel6</th>\n",
       "      <th>pixel7</th>\n",
       "      <th>pixel8</th>\n",
       "      <th>pixel9</th>\n",
       "      <th>...</th>\n",
       "      <th>pixel774</th>\n",
       "      <th>pixel775</th>\n",
       "      <th>pixel776</th>\n",
       "      <th>pixel777</th>\n",
       "      <th>pixel778</th>\n",
       "      <th>pixel779</th>\n",
       "      <th>pixel780</th>\n",
       "      <th>pixel781</th>\n",
       "      <th>pixel782</th>\n",
       "      <th>pixel783</th>\n",
       "    </tr>\n",
       "  </thead>\n",
       "  <tbody>\n",
       "    <tr>\n",
       "      <th>7</th>\n",
       "      <td>0</td>\n",
       "      <td>0</td>\n",
       "      <td>0</td>\n",
       "      <td>0</td>\n",
       "      <td>0</td>\n",
       "      <td>0</td>\n",
       "      <td>0</td>\n",
       "      <td>0</td>\n",
       "      <td>0</td>\n",
       "      <td>0</td>\n",
       "      <td>...</td>\n",
       "      <td>0</td>\n",
       "      <td>0</td>\n",
       "      <td>0</td>\n",
       "      <td>0</td>\n",
       "      <td>0</td>\n",
       "      <td>0</td>\n",
       "      <td>0</td>\n",
       "      <td>0</td>\n",
       "      <td>0</td>\n",
       "      <td>0</td>\n",
       "    </tr>\n",
       "    <tr>\n",
       "      <th>9</th>\n",
       "      <td>0</td>\n",
       "      <td>0</td>\n",
       "      <td>0</td>\n",
       "      <td>0</td>\n",
       "      <td>0</td>\n",
       "      <td>0</td>\n",
       "      <td>0</td>\n",
       "      <td>0</td>\n",
       "      <td>0</td>\n",
       "      <td>0</td>\n",
       "      <td>...</td>\n",
       "      <td>0</td>\n",
       "      <td>0</td>\n",
       "      <td>0</td>\n",
       "      <td>0</td>\n",
       "      <td>0</td>\n",
       "      <td>0</td>\n",
       "      <td>0</td>\n",
       "      <td>0</td>\n",
       "      <td>0</td>\n",
       "      <td>0</td>\n",
       "    </tr>\n",
       "    <tr>\n",
       "      <th>13</th>\n",
       "      <td>0</td>\n",
       "      <td>0</td>\n",
       "      <td>0</td>\n",
       "      <td>0</td>\n",
       "      <td>0</td>\n",
       "      <td>0</td>\n",
       "      <td>0</td>\n",
       "      <td>0</td>\n",
       "      <td>0</td>\n",
       "      <td>0</td>\n",
       "      <td>...</td>\n",
       "      <td>0</td>\n",
       "      <td>0</td>\n",
       "      <td>0</td>\n",
       "      <td>0</td>\n",
       "      <td>0</td>\n",
       "      <td>0</td>\n",
       "      <td>0</td>\n",
       "      <td>0</td>\n",
       "      <td>0</td>\n",
       "      <td>0</td>\n",
       "    </tr>\n",
       "    <tr>\n",
       "      <th>14</th>\n",
       "      <td>0</td>\n",
       "      <td>0</td>\n",
       "      <td>0</td>\n",
       "      <td>0</td>\n",
       "      <td>0</td>\n",
       "      <td>0</td>\n",
       "      <td>0</td>\n",
       "      <td>0</td>\n",
       "      <td>0</td>\n",
       "      <td>0</td>\n",
       "      <td>...</td>\n",
       "      <td>0</td>\n",
       "      <td>0</td>\n",
       "      <td>0</td>\n",
       "      <td>0</td>\n",
       "      <td>0</td>\n",
       "      <td>0</td>\n",
       "      <td>0</td>\n",
       "      <td>0</td>\n",
       "      <td>0</td>\n",
       "      <td>0</td>\n",
       "    </tr>\n",
       "    <tr>\n",
       "      <th>25</th>\n",
       "      <td>0</td>\n",
       "      <td>0</td>\n",
       "      <td>0</td>\n",
       "      <td>0</td>\n",
       "      <td>0</td>\n",
       "      <td>0</td>\n",
       "      <td>0</td>\n",
       "      <td>0</td>\n",
       "      <td>0</td>\n",
       "      <td>0</td>\n",
       "      <td>...</td>\n",
       "      <td>0</td>\n",
       "      <td>0</td>\n",
       "      <td>0</td>\n",
       "      <td>0</td>\n",
       "      <td>0</td>\n",
       "      <td>0</td>\n",
       "      <td>0</td>\n",
       "      <td>0</td>\n",
       "      <td>0</td>\n",
       "      <td>0</td>\n",
       "    </tr>\n",
       "  </tbody>\n",
       "</table>\n",
       "<p>5 rows × 784 columns</p>\n",
       "</div>"
      ],
      "text/plain": [
       "    pixel0  pixel1  pixel2  pixel3  pixel4  pixel5  pixel6  pixel7  pixel8  \\\n",
       "7        0       0       0       0       0       0       0       0       0   \n",
       "9        0       0       0       0       0       0       0       0       0   \n",
       "13       0       0       0       0       0       0       0       0       0   \n",
       "14       0       0       0       0       0       0       0       0       0   \n",
       "25       0       0       0       0       0       0       0       0       0   \n",
       "\n",
       "    pixel9  ...  pixel774  pixel775  pixel776  pixel777  pixel778  pixel779  \\\n",
       "7        0  ...         0         0         0         0         0         0   \n",
       "9        0  ...         0         0         0         0         0         0   \n",
       "13       0  ...         0         0         0         0         0         0   \n",
       "14       0  ...         0         0         0         0         0         0   \n",
       "25       0  ...         0         0         0         0         0         0   \n",
       "\n",
       "    pixel780  pixel781  pixel782  pixel783  \n",
       "7          0         0         0         0  \n",
       "9          0         0         0         0  \n",
       "13         0         0         0         0  \n",
       "14         0         0         0         0  \n",
       "25         0         0         0         0  \n",
       "\n",
       "[5 rows x 784 columns]"
      ]
     },
     "execution_count": 23,
     "metadata": {},
     "output_type": "execute_result"
    }
   ],
   "source": [
    "train_0.head()"
   ]
  },
  {
   "cell_type": "code",
   "execution_count": 18,
   "metadata": {
    "ExecuteTime": {
     "end_time": "2020-05-22T07:54:11.911590Z",
     "start_time": "2020-05-22T07:54:07.809311Z"
    }
   },
   "outputs": [
    {
     "data": {
      "image/png": "[encoded data removed]",
      "text/plain": [
       "<Figure size 1800x1800 with 4 Axes>"
      ]
     },
     "metadata": {
      "needs_background": "light"
     },
     "output_type": "display_data"
    },
    {
     "data": {
      "image/png": "[encoded data removed]",
      "text/plain": [
       "<Figure size 1800x1800 with 4 Axes>"
      ]
     },
     "metadata": {
      "needs_background": "light"
     },
     "output_type": "display_data"
    },
    {
     "data": {
      "image/png": "[encoded data removed]",
      "text/plain": [
       "<Figure size 1800x1800 with 4 Axes>"
      ]
     },
     "metadata": {
      "needs_background": "light"
     },
     "output_type": "display_data"
    },
    {
     "data": {
      "image/png": "[encoded data removed]",
      "text/plain": [
       "<Figure size 1800x1800 with 4 Axes>"
      ]
     },
     "metadata": {
      "needs_background": "light"
     },
     "output_type": "display_data"
    }
   ],
   "source": [
    "for x in range(0,4):\n",
    "    train_0=data[label==x]\n",
    "    data_new=[]\n",
    "    for idx in train_0.index:\n",
    "        val=train_0.loc[idx].values.reshape(28,28)\n",
    "        data_new.append(val)\n",
    "    plt.figure(figsize=(25,25))\n",
    "    for x in range(1,5):\n",
    "        ax1=plt.subplot(1,20, x)\n",
    "        ax1.imshow(data_new[x],cmap='gray')"
   ]
  },
  {
   "cell_type": "code",
   "execution_count": 48,
   "metadata": {
    "ExecuteTime": {
     "end_time": "2020-05-22T08:11:24.894236Z",
     "start_time": "2020-05-22T08:11:23.074412Z"
    }
   },
   "outputs": [
    {
     "data": {
      "text/plain": [
       "Text(0, 0.5, 'Frequency')"
      ]
     },
     "execution_count": 48,
     "metadata": {},
     "output_type": "execute_result"
    },
    {
     "data": {
      "image/png": "[encoded data removed]",
      "text/plain": [
       "<Figure size 1440x576 with 2 Axes>"
      ]
     },
     "metadata": {
      "needs_background": "light"
     },
     "output_type": "display_data"
    }
   ],
   "source": [
    "y = pd.value_counts(data.values.ravel()).sort_index()\n",
    "N = len(y)\n",
    "x = range(N)\n",
    "width = 0.9\n",
    "plt.figure(figsize=[20,8])\n",
    "ax1=plt.subplot(1,2,1)\n",
    "ax1.bar(x,y,width, color='blue')\n",
    "plt.title('Pixel Value Frequency For Gray Scale Images')\n",
    "plt.xlabel('Pixel Value (0-255)')\n",
    "plt.ylabel('Frequency')\n",
    "\n",
    "ax2=plt.subplot(1, 2,2)\n",
    "ax2.bar(x, y, width, color=\"blue\")\n",
    "plt.title('Pixel Value Frequency (Log Scale)')\n",
    "plt.yscale('log')\n",
    "plt.xlabel('Pixel Value (0-255)')\n",
    "plt.ylabel('Frequency')"
   ]
  },
  {
   "cell_type": "markdown",
   "metadata": {},
   "source": [
    "# split 80% data into validation set"
   ]
  },
  {
   "cell_type": "code",
   "execution_count": 56,
   "metadata": {
    "ExecuteTime": {
     "end_time": "2020-05-22T08:21:02.521891Z",
     "start_time": "2020-05-22T08:21:02.307728Z"
    }
   },
   "outputs": [],
   "source": [
    "train, test, train_labels, test_labels = train_test_split(data,label, train_size = 0.8, random_state=7)"
   ]
  },
  {
   "cell_type": "code",
   "execution_count": 53,
   "metadata": {
    "ExecuteTime": {
     "end_time": "2020-05-22T08:19:04.356895Z",
     "start_time": "2020-05-22T08:19:04.352927Z"
    }
   },
   "outputs": [],
   "source": [
    "i = 5000;\n",
    "score = []\n",
    "fittime = []\n",
    "scoretime = []\n",
    "clf = svm.SVC(random_state=7)"
   ]
  },
  {
   "cell_type": "code",
   "execution_count": 54,
   "metadata": {
    "ExecuteTime": {
     "end_time": "2020-05-22T08:19:38.625832Z",
     "start_time": "2020-05-22T08:19:38.618888Z"
    }
   },
   "outputs": [
    {
     "name": "stdout",
     "output_type": "stream",
     "text": [
      "default parameters inside the svm algo <bound method BaseEstimator.get_params of SVC(C=1.0, cache_size=200, class_weight=None, coef0=0.0,\n",
      "    decision_function_shape='ovr', degree=3, gamma='auto_deprecated',\n",
      "    kernel='rbf', max_iter=-1, probability=False, random_state=7,\n",
      "    shrinking=True, tol=0.001, verbose=False)>\n"
     ]
    }
   ],
   "source": [
    "print(\"default parameters inside the svm algo\", clf.get_params)"
   ]
  },
  {
   "cell_type": "markdown",
   "metadata": {},
   "source": [
    "# Case - 1 | default SVM param"
   ]
  },
  {
   "cell_type": "code",
   "execution_count": 126,
   "metadata": {
    "ExecuteTime": {
     "end_time": "2020-05-27T22:39:35.797957Z",
     "start_time": "2020-05-27T22:39:24.871086Z"
    }
   },
   "outputs": [
    {
     "name": "stdout",
     "output_type": "stream",
     "text": [
      "Time consumed to fit model:  00:00:10\n"
     ]
    }
   ],
   "source": [
    "start_time = time.time()\n",
    "clf.fit(train[:i], train_labels[:i].values.ravel())\n",
    "fittime = time.time() - start_time\n",
    "print(\"Time consumed to fit model: \",time.strftime(\"%H:%M:%S\", time.gmtime(fittime)))"
   ]
  },
  {
   "cell_type": "code",
   "execution_count": 127,
   "metadata": {
    "ExecuteTime": {
     "end_time": "2020-05-27T22:39:59.564777Z",
     "start_time": "2020-05-27T22:39:35.799942Z"
    }
   },
   "outputs": [
    {
     "name": "stdout",
     "output_type": "stream",
     "text": [
      "Accuary for grayscale:  0.9122619047619047\n",
      "Time consumed to score:  00:00:23\n"
     ]
    }
   ],
   "source": [
    "start_time = time.time()\n",
    "score=clf.score(test,test_labels)\n",
    "print(\"Accuary for grayscale: \",score)\n",
    "scoretime = time.time() - start_time\n",
    "print('Time consumed to score: ', time.strftime(\"%H:%M:%S\", time.gmtime(scoretime)))\n",
    "case1=[score, fittime, scoretime]"
   ]
  },
  {
   "cell_type": "markdown",
   "metadata": {},
   "source": [
    "---"
   ]
  },
  {
   "cell_type": "markdown",
   "metadata": {},
   "source": [
    "# Case - 2 | change grayscale into black and white"
   ]
  },
  {
   "cell_type": "code",
   "execution_count": 128,
   "metadata": {
    "ExecuteTime": {
     "end_time": "2020-05-27T22:40:09.710794Z",
     "start_time": "2020-05-27T22:40:09.707844Z"
    }
   },
   "outputs": [],
   "source": [
    "test_b = test\n",
    "train_b = train"
   ]
  },
  {
   "cell_type": "code",
   "execution_count": 129,
   "metadata": {
    "ExecuteTime": {
     "end_time": "2020-05-27T22:40:10.448928Z",
     "start_time": "2020-05-27T22:40:10.050751Z"
    }
   },
   "outputs": [],
   "source": [
    "test_b[test_b>0]=1"
   ]
  },
  {
   "cell_type": "code",
   "execution_count": 130,
   "metadata": {
    "ExecuteTime": {
     "end_time": "2020-05-27T22:40:11.517344Z",
     "start_time": "2020-05-27T22:40:10.450417Z"
    }
   },
   "outputs": [],
   "source": [
    "train_b[train_b>0]=1"
   ]
  },
  {
   "cell_type": "code",
   "execution_count": 131,
   "metadata": {
    "ExecuteTime": {
     "end_time": "2020-05-27T22:40:15.598761Z",
     "start_time": "2020-05-27T22:40:11.518801Z"
    }
   },
   "outputs": [
    {
     "data": {
      "image/png": "[encoded data removed]",
      "text/plain": [
       "<Figure size 1800x1800 with 4 Axes>"
      ]
     },
     "metadata": {
      "needs_background": "light"
     },
     "output_type": "display_data"
    },
    {
     "data": {
      "image/png": "[encoded data removed]",
      "text/plain": [
       "<Figure size 1800x1800 with 4 Axes>"
      ]
     },
     "metadata": {
      "needs_background": "light"
     },
     "output_type": "display_data"
    },
    {
     "data": {
      "image/png": "[encoded data removed]",
      "text/plain": [
       "<Figure size 1800x1800 with 4 Axes>"
      ]
     },
     "metadata": {
      "needs_background": "light"
     },
     "output_type": "display_data"
    },
    {
     "data": {
      "image/png": "[encoded data removed]",
      "text/plain": [
       "<Figure size 1800x1800 with 4 Axes>"
      ]
     },
     "metadata": {
      "needs_background": "light"
     },
     "output_type": "display_data"
    }
   ],
   "source": [
    "for x in range(0,4):\n",
    "    train_0=train_b[train_labels==x]\n",
    "    data_new=[]\n",
    "    for idx in train_0.index:\n",
    "        val=train_0.loc[idx].values.reshape(28,28)\n",
    "        data_new.append(val)\n",
    "    plt.figure(figsize=(25,25))   \n",
    "    for x in range(1,5):\n",
    "        ax1=plt.subplot(1, 20, x)\n",
    "        ax1.imshow(data_new[x],cmap='binary')"
   ]
  },
  {
   "cell_type": "code",
   "execution_count": 132,
   "metadata": {
    "ExecuteTime": {
     "end_time": "2020-05-27T22:41:12.035982Z",
     "start_time": "2020-05-27T22:40:36.665114Z"
    }
   },
   "outputs": [
    {
     "name": "stdout",
     "output_type": "stream",
     "text": [
      "Time consumed to fit model:  00:00:11\n",
      "Accuracy for binary:  0.9122619047619047\n"
     ]
    }
   ],
   "source": [
    "start_time = time.time()\n",
    "clf.fit(train_b[:i], train_labels[:i].values.ravel())\n",
    "fittime = time.time() - start_time\n",
    "print(\"Time consumed to fit model: \", time.strftime(\"%H:%M:%S\", time.gmtime(fittime)))\n",
    "score = clf.score(test_b, test_labels)\n",
    "print(\"Accuracy for binary: \",score)\n",
    "case2=[score,fittime,scoretime]"
   ]
  },
  {
   "cell_type": "code",
   "execution_count": null,
   "metadata": {},
   "outputs": [],
   "source": [
    "# the accuracy case 2 is 90% way higher than case 1 10%\n",
    "# high dimensionaly of data makin computational time high. lets reduce the dimensions using pca."
   ]
  },
  {
   "cell_type": "markdown",
   "metadata": {},
   "source": [
    "# Case - 3 | grayscale + dimensionality reduction"
   ]
  },
  {
   "cell_type": "code",
   "execution_count": 87,
   "metadata": {
    "ExecuteTime": {
     "end_time": "2020-05-27T22:05:42.792366Z",
     "start_time": "2020-05-27T22:05:42.463974Z"
    }
   },
   "outputs": [],
   "source": [
    "from sklearn.preprocessing import StandardScaler\n",
    "from sklearn.decomposition import PCA as sklearnPCA"
   ]
  },
  {
   "cell_type": "code",
   "execution_count": 90,
   "metadata": {
    "ExecuteTime": {
     "end_time": "2020-05-27T22:07:33.749544Z",
     "start_time": "2020-05-27T22:07:32.749769Z"
    }
   },
   "outputs": [],
   "source": [
    "# standardize the data\n",
    "sc = StandardScaler().fit(train)\n",
    "X_std_train = sc.transform(train)\n",
    "X_std_test = sc.transform(test)"
   ]
  },
  {
   "cell_type": "code",
   "execution_count": 91,
   "metadata": {
    "ExecuteTime": {
     "end_time": "2020-05-27T22:09:19.728284Z",
     "start_time": "2020-05-27T22:09:14.683503Z"
    }
   },
   "outputs": [],
   "source": [
    "# if n_components is not set then all components are stored\n",
    "sklearn_pca = sklearnPCA().fit(X_std_train)\n",
    "train_pca = sklearn_pca.transform(X_std_train)b\n",
    "test_pca = sklearn_pca.transform(X_std_test)"
   ]
  },
  {
   "cell_type": "code",
   "execution_count": 95,
   "metadata": {
    "ExecuteTime": {
     "end_time": "2020-05-27T22:10:29.438020Z",
     "start_time": "2020-05-27T22:10:29.434052Z"
    }
   },
   "outputs": [],
   "source": [
    "var_per = sklearn_pca.explained_variance_ratio_\n",
    "cum_var_per = sklearn_pca.explained_variance_ratio_.cumsum()"
   ]
  },
  {
   "cell_type": "code",
   "execution_count": 97,
   "metadata": {
    "ExecuteTime": {
     "end_time": "2020-05-27T22:11:51.905282Z",
     "start_time": "2020-05-27T22:11:48.936015Z"
    }
   },
   "outputs": [
    {
     "data": {
      "text/plain": [
       "Text(0, 0.5, 'Variance')"
      ]
     },
     "execution_count": 97,
     "metadata": {},
     "output_type": "execute_result"
    },
    {
     "data": {
      "image/png": "[encoded data removed]",
      "text/plain": [
       "<Figure size 1440x720 with 1 Axes>"
      ]
     },
     "metadata": {
      "needs_background": "light"
     },
     "output_type": "display_data"
    }
   ],
   "source": [
    "plt.figure(figsize=(20,10))\n",
    "ind = np.arange(len(var_per))\n",
    "plt.bar(ind,var_per)\n",
    "plt.xlabel('n_components')\n",
    "plt.ylabel('Variance')"
   ]
  },
  {
   "cell_type": "code",
   "execution_count": 120,
   "metadata": {
    "ExecuteTime": {
     "end_time": "2020-05-27T22:31:27.945004Z",
     "start_time": "2020-05-27T22:31:22.358471Z"
    }
   },
   "outputs": [
    {
     "name": "stdout",
     "output_type": "stream",
     "text": [
      "Keeping 90% Info with  287  components\n",
      "Shape before PCA for Train:  (33600, 784)\n",
      "Shape after PCA for Train:  (33600, 287)\n",
      "Shape before PCA for Test:  (8400, 784)\n",
      "Shape after PCA for Test:  (8400, 287)\n"
     ]
    }
   ],
   "source": [
    "n_comp=len(cum_var_per[cum_var_per <= 0.90])\n",
    "print(\"Keeping 90% Info with \",n_comp,\" components\")\n",
    "sklearn_pca = sklearnPCA(n_components=n_comp)\n",
    "#be aware of this fit and transform!\n",
    "train_pca = sklearn_pca.fit_transform(X_std_train)\n",
    "test_pca = sklearn_pca.transform(X_std_test)\n",
    "print(\"Shape before PCA for Train: \",X_std_train.shape)\n",
    "print(\"Shape after PCA for Train: \",train_pca.shape)\n",
    "print(\"Shape before PCA for Test: \",X_std_test.shape)\n",
    "print(\"Shape after PCA for Test: \",test_pca.shape)"
   ]
  },
  {
   "cell_type": "code",
   "execution_count": 121,
   "metadata": {
    "ExecuteTime": {
     "end_time": "2020-05-27T22:31:52.946833Z",
     "start_time": "2020-05-27T22:31:37.868478Z"
    }
   },
   "outputs": [
    {
     "name": "stdout",
     "output_type": "stream",
     "text": [
      "time consumed to fit the model:  00:00:06\n",
      "accuracy for grayscale and pca 0.9192857142857143\n",
      "time consumed to score model:  00:00:06\n"
     ]
    }
   ],
   "source": [
    "start_time = time.time()\n",
    "clf.fit(train_pca[:i], train_labels[:i].values.ravel())\n",
    "fittime = time.time() - start_time\n",
    "print(\"time consumed to fit the model: \", time.strftime(\"%H:%M:%S\", time.gmtime(fittime)))\n",
    "\n",
    "\n",
    "start_time = time.time()\n",
    "score = clf.score(test_pca, test_labels.values.ravel())\n",
    "print(\"accuracy for grayscale and pca\", score)\n",
    "scoretime = time.time() - start_time\n",
    "print(\"time consumed to score model: \", time.strftime(\"%H:%M:%S\", time.gmtime(fittime)))\n",
    "case3 = [score, fittime, scoretime]"
   ]
  },
  {
   "cell_type": "markdown",
   "metadata": {},
   "source": [
    "# Case - 4 | Binary + Dimensionality Reduction"
   ]
  },
  {
   "cell_type": "code",
   "execution_count": 122,
   "metadata": {
    "ExecuteTime": {
     "end_time": "2020-05-27T22:37:10.842076Z",
     "start_time": "2020-05-27T22:37:04.939784Z"
    }
   },
   "outputs": [
    {
     "data": {
      "text/plain": [
       "Text(0, 0.5, 'Variance')"
      ]
     },
     "execution_count": 122,
     "metadata": {},
     "output_type": "execute_result"
    },
    {
     "data": {
      "image/png": "[encoded data removed]",
      "text/plain": [
       "<Figure size 2160x720 with 1 Axes>"
      ]
     },
     "metadata": {
      "needs_background": "light"
     },
     "output_type": "display_data"
    }
   ],
   "source": [
    "from sklearn.preprocessing import StandardScaler\n",
    "from sklearn.decomposition import PCA as sklearnPCA\n",
    "\n",
    "#standardized data\n",
    "sc = StandardScaler().fit(train_b)\n",
    "X_std_train = sc.transform(train_b)\n",
    "X_std_test = sc.transform(test_b)\n",
    "\n",
    "#If n_components is not set then all components are stored \n",
    "sklearn_pca = sklearnPCA().fit(X_std_train)\n",
    "#train_pca_b = sklearn_pca.transform(X_std_train)\n",
    "#test_pca_b = sklearn_pca.transform(X_std_test)\n",
    "\n",
    "#Percentage of variance explained by each of the selected components.\n",
    "#If n_components is not set then all components are stored and the sum of the ratios is equal to 1.0.\n",
    "var_per = sklearn_pca.explained_variance_ratio_\n",
    "cum_var_per = sklearn_pca.explained_variance_ratio_.cumsum()\n",
    "\n",
    "plt.figure(figsize=(30,10))\n",
    "ind = np.arange(len(var_per)) \n",
    "plt.bar(ind,var_per)\n",
    "plt.xlabel('n_components')\n",
    "plt.ylabel('Variance')"
   ]
  },
  {
   "cell_type": "code",
   "execution_count": 123,
   "metadata": {
    "ExecuteTime": {
     "end_time": "2020-05-27T22:37:16.346537Z",
     "start_time": "2020-05-27T22:37:11.519104Z"
    }
   },
   "outputs": [
    {
     "name": "stdout",
     "output_type": "stream",
     "text": [
      "Keeping 90% Info with  287  components\n",
      "Shape before PCA for Train:  (33600, 784)\n",
      "Shape after PCA for Train:  (33600, 287)\n",
      "Shape before PCA for Test:  (8400, 784)\n",
      "Shape after PCA for Test:  (8400, 287)\n"
     ]
    }
   ],
   "source": [
    "n_comp=len(cum_var_per[cum_var_per <= 0.90])\n",
    "print(\"Keeping 90% Info with \",n_comp,\" components\")\n",
    "sklearn_pca = sklearnPCA(n_components=n_comp)\n",
    "train_pca_b = sklearn_pca.fit_transform(X_std_train)\n",
    "test_pca_b = sklearn_pca.transform(X_std_test)\n",
    "print(\"Shape before PCA for Train: \",X_std_train.shape)\n",
    "print(\"Shape after PCA for Train: \",train_pca_b.shape)\n",
    "print(\"Shape before PCA for Test: \",X_std_test.shape)\n",
    "print(\"Shape after PCA for Test: \",test_pca_b.shape)"
   ]
  },
  {
   "cell_type": "code",
   "execution_count": 124,
   "metadata": {
    "ExecuteTime": {
     "end_time": "2020-05-27T22:37:44.788857Z",
     "start_time": "2020-05-27T22:37:29.425625Z"
    }
   },
   "outputs": [
    {
     "name": "stdout",
     "output_type": "stream",
     "text": [
      "Time consumed to fit model:  00:00:06\n",
      "Accuracy for grayscale:  0.9195238095238095\n",
      "Time consumed to score model:  00:00:08\n"
     ]
    }
   ],
   "source": [
    "start_time = time.time()\n",
    "clf.fit(train_pca_b[:i], train_labels[:i].values.ravel())\n",
    "fittime = time.time() - start_time\n",
    "print(\"Time consumed to fit model: \",time.strftime(\"%H:%M:%S\", time.gmtime(fittime)))\n",
    "start_time = time.time()\n",
    "score=clf.score(test_pca_b,test_labels)\n",
    "print(\"Accuracy for grayscale: \",score)\n",
    "scoretime = time.time() - start_time\n",
    "print(\"Time consumed to score model: \",time.strftime(\"%H:%M:%S\", time.gmtime(scoretime)))\n",
    "case4=[score,fittime,scoretime]"
   ]
  },
  {
   "cell_type": "markdown",
   "metadata": {},
   "source": [
    "# summarize the outputs"
   ]
  },
  {
   "cell_type": "code",
   "execution_count": 133,
   "metadata": {
    "ExecuteTime": {
     "end_time": "2020-05-27T22:41:12.045871Z",
     "start_time": "2020-05-27T22:41:12.037438Z"
    }
   },
   "outputs": [
    {
     "name": "stdout",
     "output_type": "stream",
     "text": [
      "\t\t case1 \t\t\t case2 \t\t\t case3 \t\t\t case4\n",
      "Accuracy\t0.9122619047619047\t0.9122619047619047\t0.9192857142857143\t0.9195238095238095\n",
      "FittingTime\t10.92042326927185\t11.24776029586792\t6.197479724884033\t6.446115016937256\n",
      "ScoringTime\t23.759875059127808\t23.759875059127808\t8.871947526931763\t8.90765929222107\n"
     ]
    }
   ],
   "source": [
    "head =[\"Accuracy\",\"FittingTime\",\"ScoringTime\"]\n",
    "print(\"\\t\\t case1 \\t\\t\\t case2 \\t\\t\\t case3 \\t\\t\\t case4\")\n",
    "for h, c1, c2, c3, c4 in zip(head, case1, case2, case3, case4):\n",
    "    print(\"{}\\t{}\\t{}\\t{}\\t{}\".format(h, c1, c2, c3, c4))"
   ]
  },
  {
   "cell_type": "markdown",
   "metadata": {},
   "source": [
    "# Training Data Size vs Accuracy, Fitting & Score Times"
   ]
  },
  {
   "cell_type": "code",
   "execution_count": 137,
   "metadata": {
    "ExecuteTime": {
     "end_time": "2020-05-27T22:56:41.460663Z",
     "start_time": "2020-05-27T22:50:26.395656Z"
    }
   },
   "outputs": [
    {
     "name": "stderr",
     "output_type": "stream",
     "text": [
      "100%|████████████████████████████████████████████████| 6/6 [06:15<00:00, 62.51s/it]\n"
     ]
    }
   ],
   "source": [
    "from tqdm import tqdm\n",
    "\n",
    "fit_time=[]\n",
    "score=[]\n",
    "score_time=[]\n",
    "\n",
    "for f in tqdm(range(1000,31000,5000)):\n",
    "    start_time = time.time()\n",
    "    clf.fit(train_pca_b[:f], train_labels[:f].values.ravel())\n",
    "    fit_time.append(time.time() - start_time)\n",
    "    start_time = time.time()\n",
    "    score.append(clf.score(test_pca_b, test_labels))\n",
    "    score_time.append(time.time() - start_time)"
   ]
  },
  {
   "cell_type": "code",
   "execution_count": 138,
   "metadata": {
    "ExecuteTime": {
     "end_time": "2020-05-27T22:59:36.299574Z",
     "start_time": "2020-05-27T22:59:35.995493Z"
    }
   },
   "outputs": [
    {
     "data": {
      "text/plain": [
       "<matplotlib.legend.Legend at 0x168d0d98488>"
      ]
     },
     "execution_count": 138,
     "metadata": {},
     "output_type": "execute_result"
    },
    {
     "data": {
      "image/png": "[encoded data removed]",
      "text/plain": [
       "<Figure size 1440x360 with 2 Axes>"
      ]
     },
     "metadata": {
      "needs_background": "light"
     },
     "output_type": "display_data"
    }
   ],
   "source": [
    "x=list(range(1000,31000,5000))\n",
    "plt.figure(figsize=[20,5])\n",
    "ax1=plt.subplot(1,2,1)\n",
    "ax1.plot(x,score, '-o')\n",
    "plt.xlabel('Number of Training Samples')\n",
    "plt.ylabel('Accuracy')\n",
    "ax2=plt.subplot(1,2,2)\n",
    "ax2.plot(x,score_time,'-o')\n",
    "ax2.plot(x,fit_time,'-o')\n",
    "\n",
    "plt.xlabel('Number of Training Samples')\n",
    "plt.ylabel('Time to Compute Score/Fit (sc)')\n",
    "plt.legend(['score_time','fitting_time'])"
   ]
  },
  {
   "cell_type": "markdown",
   "metadata": {},
   "source": [
    "# Parameter Selection for SVM using GridSearchCV"
   ]
  },
  {
   "cell_type": "markdown",
   "metadata": {
    "ExecuteTime": {
     "end_time": "2020-05-30T23:33:28.923111Z",
     "start_time": "2020-05-30T23:33:28.797444Z"
    }
   },
   "source": [
    "Gamma is the parameter of a Gaussian Kernel (to handle non-linear classification) and \n",
    "\n",
    "\n",
    "C the parameter for the soft margin cost function, also known as cost of misclassification. A large C gives you low bias and high variance and vice versa."
   ]
  },
  {
   "cell_type": "code",
   "execution_count": 140,
   "metadata": {
    "ExecuteTime": {
     "end_time": "2020-05-30T23:33:59.529450Z",
     "start_time": "2020-05-30T23:33:59.475353Z"
    }
   },
   "outputs": [
    {
     "data": {
      "text/plain": [
       "<bound method BaseEstimator.get_params of SVC(C=1.0, cache_size=200, class_weight=None, coef0=0.0,\n",
       "    decision_function_shape='ovr', degree=3, gamma='auto_deprecated',\n",
       "    kernel='rbf', max_iter=-1, probability=False, random_state=7,\n",
       "    shrinking=True, tol=0.001, verbose=False)>"
      ]
     },
     "execution_count": 140,
     "metadata": {},
     "output_type": "execute_result"
    }
   ],
   "source": [
    "clf.get_params"
   ]
  },
  {
   "cell_type": "code",
   "execution_count": 141,
   "metadata": {
    "ExecuteTime": {
     "end_time": "2020-05-30T23:34:11.581098Z",
     "start_time": "2020-05-30T23:34:11.560265Z"
    }
   },
   "outputs": [],
   "source": [
    "parameters = {'gamma': [1, 0.1, 0.01, 0.001],\n",
    "             'C': [1000, 100, 10, 1]} \n",
    "\n",
    "p = GridSearchCV(clf , param_grid=parameters, cv=3)"
   ]
  },
  {
   "cell_type": "code",
   "execution_count": 142,
   "metadata": {
    "ExecuteTime": {
     "end_time": "2020-05-30T23:41:36.541887Z",
     "start_time": "2020-05-30T23:35:35.145249Z"
    }
   },
   "outputs": [
    {
     "name": "stdout",
     "output_type": "stream",
     "text": [
      "Time consumed to fit model:  00:06:01\n"
     ]
    }
   ],
   "source": [
    "# pca reduction\n",
    "X=train_pca_b[:i]\n",
    "y=train_labels[:i].values.ravel()\n",
    "start_time = time.time()\n",
    "p.fit(X,y)\n",
    "elapsed_time = time.time() - start_time\n",
    "print(\"Time consumed to fit model: \",time.strftime(\"%H:%M:%S\", time.gmtime(elapsed_time)))"
   ]
  },
  {
   "cell_type": "code",
   "execution_count": 143,
   "metadata": {
    "ExecuteTime": {
     "end_time": "2020-05-30T23:42:42.278098Z",
     "start_time": "2020-05-30T23:42:42.262226Z"
    }
   },
   "outputs": [
    {
     "name": "stdout",
     "output_type": "stream",
     "text": [
      "Scores for all Parameter Combination: \n",
      " [0.1134 0.1866 0.7904 0.9316 0.1134 0.1866 0.7904 0.9316 0.1134 0.1866\n",
      " 0.7904 0.9326 0.1134 0.183  0.7732 0.9224]\n",
      "\n",
      "Optimal C and Gamma Combination:  {'C': 10, 'gamma': 0.001}\n",
      "\n",
      "Maximum Accuracy acheieved on LeftOut Data:  0.9326\n"
     ]
    }
   ],
   "source": [
    "print(\"Scores for all Parameter Combination: \\n\",p.cv_results_['mean_test_score'])\n",
    "print(\"\\nOptimal C and Gamma Combination: \",p.best_params_)\n",
    "print(\"\\nMaximum Accuracy acheieved on LeftOut Data: \",p.best_score_)"
   ]
  },
  {
   "cell_type": "markdown",
   "metadata": {},
   "source": [
    "---"
   ]
  },
  {
   "cell_type": "markdown",
   "metadata": {},
   "source": [
    "## checking the actual params"
   ]
  },
  {
   "cell_type": "code",
   "execution_count": 145,
   "metadata": {
    "ExecuteTime": {
     "end_time": "2020-05-30T23:44:22.320130Z",
     "start_time": "2020-05-30T23:44:22.315169Z"
    }
   },
   "outputs": [],
   "source": [
    "C = p.best_params_[\"C\"]\n",
    "gamma = p.best_params_[\"gamma\"]\n",
    "clf=svm.SVC(C=C, gamma=gamma, random_state=7)"
   ]
  },
  {
   "cell_type": "code",
   "execution_count": 146,
   "metadata": {
    "ExecuteTime": {
     "end_time": "2020-05-30T23:45:46.995730Z",
     "start_time": "2020-05-30T23:45:36.756328Z"
    }
   },
   "outputs": [
    {
     "name": "stdout",
     "output_type": "stream",
     "text": [
      "Time consumed to fit model:  00:10:05\n",
      "Accuracy for binary:  0.9384523809523809\n"
     ]
    }
   ],
   "source": [
    "clf.fit(train_pca_b[:i], train_labels[:i].values.ravel())\n",
    "elapsed_time = time.time() - start_time\n",
    "print(\"Time consumed to fit model: \",time.strftime(\"%H:%M:%S\", time.gmtime(elapsed_time)))\n",
    "print(\"Accuracy for binary: \",clf.score(test_pca_b,test_labels))"
   ]
  },
  {
   "cell_type": "markdown",
   "metadata": {},
   "source": [
    "# submission kernel"
   ]
  },
  {
   "cell_type": "code",
   "execution_count": 154,
   "metadata": {
    "ExecuteTime": {
     "end_time": "2020-05-30T23:55:26.928940Z",
     "start_time": "2020-05-30T23:55:25.420112Z"
    }
   },
   "outputs": [],
   "source": [
    "data.shape\n",
    "train_data = data\n",
    "train_label = label\n",
    "test_data = pd.read_csv('../Input Files/Digit Recognizer/test.csv')"
   ]
  },
  {
   "cell_type": "code",
   "execution_count": 152,
   "metadata": {
    "ExecuteTime": {
     "end_time": "2020-05-30T23:53:27.025690Z",
     "start_time": "2020-05-30T23:53:24.222795Z"
    }
   },
   "outputs": [],
   "source": [
    "train_data[train_data>0]=1\n",
    "test_data[test_data>0]=1"
   ]
  },
  {
   "cell_type": "code",
   "execution_count": 155,
   "metadata": {
    "ExecuteTime": {
     "end_time": "2020-05-30T23:55:29.213065Z",
     "start_time": "2020-05-30T23:55:28.009770Z"
    }
   },
   "outputs": [],
   "source": [
    "sc = StandardScaler().fit(train_data)\n",
    "X_std_train = sc.transform(train_data)\n",
    "X_std_test = sc.transform(test_data)"
   ]
  },
  {
   "cell_type": "code",
   "execution_count": 156,
   "metadata": {
    "ExecuteTime": {
     "end_time": "2020-05-30T23:58:24.675490Z",
     "start_time": "2020-05-30T23:58:20.043814Z"
    }
   },
   "outputs": [],
   "source": [
    "sklearn_pca = sklearnPCA().fit(X_std_train)"
   ]
  },
  {
   "cell_type": "code",
   "execution_count": 158,
   "metadata": {
    "ExecuteTime": {
     "end_time": "2020-05-30T23:58:59.356743Z",
     "start_time": "2020-05-30T23:58:59.353272Z"
    }
   },
   "outputs": [],
   "source": [
    "var_per = sklearn_pca.explained_variance_ratio_\n",
    "cum_var_per = sklearn_pca.explained_variance_ratio_.cumsum()"
   ]
  },
  {
   "cell_type": "code",
   "execution_count": 159,
   "metadata": {
    "ExecuteTime": {
     "end_time": "2020-05-30T23:59:08.555510Z",
     "start_time": "2020-05-30T23:59:07.006007Z"
    }
   },
   "outputs": [
    {
     "data": {
      "text/plain": [
       "Text(0, 0.5, 'Variance')"
      ]
     },
     "execution_count": 159,
     "metadata": {},
     "output_type": "execute_result"
    },
    {
     "data": {
      "image/png": "[encoded data removed]",
      "text/plain": [
       "<Figure size 2160x720 with 1 Axes>"
      ]
     },
     "metadata": {
      "needs_background": "light"
     },
     "output_type": "display_data"
    }
   ],
   "source": [
    "plt.figure(figsize=(30,10))\n",
    "ind = np.arange(len(var_per)) \n",
    "plt.bar(ind,var_per)\n",
    "plt.xlabel('n_components')\n",
    "plt.ylabel('Variance')"
   ]
  },
  {
   "cell_type": "code",
   "execution_count": 160,
   "metadata": {
    "ExecuteTime": {
     "end_time": "2020-05-30T23:59:29.069600Z",
     "start_time": "2020-05-30T23:59:22.968437Z"
    }
   },
   "outputs": [
    {
     "name": "stdout",
     "output_type": "stream",
     "text": [
      "Keeping 90% Info with  293  components\n",
      "Shape before PCA for Train:  (42000, 784)\n",
      "Shape after PCA for Train:  (42000, 293)\n",
      "Shape before PCA for Test:  (28000, 784)\n",
      "Shape after PCA for Test:  (28000, 293)\n"
     ]
    }
   ],
   "source": [
    "n_comp=len(cum_var_per[cum_var_per <= 0.90])\n",
    "print(\"Keeping 90% Info with \",n_comp,\" components\")\n",
    "sklearn_pca = sklearnPCA(n_components=n_comp)\n",
    "train_pca_b = sklearn_pca.fit_transform(X_std_train)\n",
    "test_pca_b = sklearn_pca.transform(X_std_test)\n",
    "print(\"Shape before PCA for Train: \",X_std_train.shape)\n",
    "print(\"Shape after PCA for Train: \",train_pca_b.shape)\n",
    "print(\"Shape before PCA for Test: \",X_std_test.shape)\n",
    "print(\"Shape after PCA for Test: \",test_pca_b.shape)"
   ]
  },
  {
   "cell_type": "code",
   "execution_count": 164,
   "metadata": {
    "ExecuteTime": {
     "end_time": "2020-05-31T00:01:48.172636Z",
     "start_time": "2020-05-31T00:00:06.531253Z"
    }
   },
   "outputs": [
    {
     "name": "stdout",
     "output_type": "stream",
     "text": [
      "Time consumed to fit model:  00:01:41\n"
     ]
    }
   ],
   "source": [
    "start_time = time.time()\n",
    "clf.fit(train_pca_b, label.values.ravel())\n",
    "fittime = time.time() - start_time\n",
    "print(\"Time consumed to fit model: \",time.strftime(\"%H:%M:%S\", time.gmtime(fittime)))"
   ]
  },
  {
   "cell_type": "code",
   "execution_count": 165,
   "metadata": {
    "ExecuteTime": {
     "end_time": "2020-05-31T00:05:21.118423Z",
     "start_time": "2020-05-31T00:03:38.161967Z"
    }
   },
   "outputs": [
    {
     "name": "stdout",
     "output_type": "stream",
     "text": [
      "Accuary for Binary(PCA): [7 7 7 ... 7 7 7]\n"
     ]
    }
   ],
   "source": [
    "start_time = time.time()\n",
    "result=clf.predict(test_pca_b)\n",
    "print(\"Accuary for Binary(PCA):\", result)"
   ]
  },
  {
   "cell_type": "code",
   "execution_count": 166,
   "metadata": {
    "ExecuteTime": {
     "end_time": "2020-05-31T00:05:37.394714Z",
     "start_time": "2020-05-31T00:05:37.389256Z"
    }
   },
   "outputs": [
    {
     "data": {
      "text/plain": [
       "array([7, 7, 7, ..., 7, 7, 7], dtype=int64)"
      ]
     },
     "execution_count": 166,
     "metadata": {},
     "output_type": "execute_result"
    }
   ],
   "source": [
    "result"
   ]
  },
  {
   "cell_type": "code",
   "execution_count": 167,
   "metadata": {
    "ExecuteTime": {
     "end_time": "2020-05-31T00:07:00.573210Z",
     "start_time": "2020-05-31T00:07:00.479974Z"
    }
   },
   "outputs": [],
   "source": [
    "data_to_submit = pd.DataFrame({\n",
    "    'ImageId':test_data.index.values+1,\n",
    "    'Label':result\n",
    "})\n",
    "\n",
    "data_to_submit.index=data_to_submit['ImageId'].values\n",
    "data_to_submit.to_csv('result.csv', index=False)"
   ]
  },
  {
   "cell_type": "code",
   "execution_count": 168,
   "metadata": {
    "ExecuteTime": {
     "end_time": "2020-05-31T00:07:07.885855Z",
     "start_time": "2020-05-31T00:07:07.865520Z"
    }
   },
   "outputs": [
    {
     "data": {
      "text/html": [
       "<div>\n",
       "<style scoped>\n",
       "    .dataframe tbody tr th:only-of-type {\n",
       "        vertical-align: middle;\n",
       "    }\n",
       "\n",
       "    .dataframe tbody tr th {\n",
       "        vertical-align: top;\n",
       "    }\n",
       "\n",
       "    .dataframe thead th {\n",
       "        text-align: right;\n",
       "    }\n",
       "</style>\n",
       "<table border=\"1\" class=\"dataframe\">\n",
       "  <thead>\n",
       "    <tr style=\"text-align: right;\">\n",
       "      <th></th>\n",
       "      <th>ImageId</th>\n",
       "      <th>Label</th>\n",
       "    </tr>\n",
       "  </thead>\n",
       "  <tbody>\n",
       "    <tr>\n",
       "      <th>1</th>\n",
       "      <td>1</td>\n",
       "      <td>7</td>\n",
       "    </tr>\n",
       "    <tr>\n",
       "      <th>2</th>\n",
       "      <td>2</td>\n",
       "      <td>7</td>\n",
       "    </tr>\n",
       "    <tr>\n",
       "      <th>3</th>\n",
       "      <td>3</td>\n",
       "      <td>7</td>\n",
       "    </tr>\n",
       "    <tr>\n",
       "      <th>4</th>\n",
       "      <td>4</td>\n",
       "      <td>7</td>\n",
       "    </tr>\n",
       "    <tr>\n",
       "      <th>5</th>\n",
       "      <td>5</td>\n",
       "      <td>7</td>\n",
       "    </tr>\n",
       "    <tr>\n",
       "      <th>6</th>\n",
       "      <td>6</td>\n",
       "      <td>7</td>\n",
       "    </tr>\n",
       "    <tr>\n",
       "      <th>7</th>\n",
       "      <td>7</td>\n",
       "      <td>7</td>\n",
       "    </tr>\n",
       "    <tr>\n",
       "      <th>8</th>\n",
       "      <td>8</td>\n",
       "      <td>7</td>\n",
       "    </tr>\n",
       "    <tr>\n",
       "      <th>9</th>\n",
       "      <td>9</td>\n",
       "      <td>7</td>\n",
       "    </tr>\n",
       "    <tr>\n",
       "      <th>10</th>\n",
       "      <td>10</td>\n",
       "      <td>7</td>\n",
       "    </tr>\n",
       "    <tr>\n",
       "      <th>11</th>\n",
       "      <td>11</td>\n",
       "      <td>7</td>\n",
       "    </tr>\n",
       "    <tr>\n",
       "      <th>12</th>\n",
       "      <td>12</td>\n",
       "      <td>7</td>\n",
       "    </tr>\n",
       "    <tr>\n",
       "      <th>13</th>\n",
       "      <td>13</td>\n",
       "      <td>7</td>\n",
       "    </tr>\n",
       "    <tr>\n",
       "      <th>14</th>\n",
       "      <td>14</td>\n",
       "      <td>7</td>\n",
       "    </tr>\n",
       "    <tr>\n",
       "      <th>15</th>\n",
       "      <td>15</td>\n",
       "      <td>7</td>\n",
       "    </tr>\n",
       "    <tr>\n",
       "      <th>16</th>\n",
       "      <td>16</td>\n",
       "      <td>7</td>\n",
       "    </tr>\n",
       "    <tr>\n",
       "      <th>17</th>\n",
       "      <td>17</td>\n",
       "      <td>7</td>\n",
       "    </tr>\n",
       "    <tr>\n",
       "      <th>18</th>\n",
       "      <td>18</td>\n",
       "      <td>7</td>\n",
       "    </tr>\n",
       "    <tr>\n",
       "      <th>19</th>\n",
       "      <td>19</td>\n",
       "      <td>7</td>\n",
       "    </tr>\n",
       "    <tr>\n",
       "      <th>20</th>\n",
       "      <td>20</td>\n",
       "      <td>7</td>\n",
       "    </tr>\n",
       "    <tr>\n",
       "      <th>21</th>\n",
       "      <td>21</td>\n",
       "      <td>7</td>\n",
       "    </tr>\n",
       "    <tr>\n",
       "      <th>22</th>\n",
       "      <td>22</td>\n",
       "      <td>7</td>\n",
       "    </tr>\n",
       "    <tr>\n",
       "      <th>23</th>\n",
       "      <td>23</td>\n",
       "      <td>7</td>\n",
       "    </tr>\n",
       "    <tr>\n",
       "      <th>24</th>\n",
       "      <td>24</td>\n",
       "      <td>7</td>\n",
       "    </tr>\n",
       "    <tr>\n",
       "      <th>25</th>\n",
       "      <td>25</td>\n",
       "      <td>7</td>\n",
       "    </tr>\n",
       "    <tr>\n",
       "      <th>26</th>\n",
       "      <td>26</td>\n",
       "      <td>7</td>\n",
       "    </tr>\n",
       "    <tr>\n",
       "      <th>27</th>\n",
       "      <td>27</td>\n",
       "      <td>7</td>\n",
       "    </tr>\n",
       "    <tr>\n",
       "      <th>28</th>\n",
       "      <td>28</td>\n",
       "      <td>7</td>\n",
       "    </tr>\n",
       "    <tr>\n",
       "      <th>29</th>\n",
       "      <td>29</td>\n",
       "      <td>7</td>\n",
       "    </tr>\n",
       "    <tr>\n",
       "      <th>30</th>\n",
       "      <td>30</td>\n",
       "      <td>7</td>\n",
       "    </tr>\n",
       "    <tr>\n",
       "      <th>...</th>\n",
       "      <td>...</td>\n",
       "      <td>...</td>\n",
       "    </tr>\n",
       "    <tr>\n",
       "      <th>27971</th>\n",
       "      <td>27971</td>\n",
       "      <td>7</td>\n",
       "    </tr>\n",
       "    <tr>\n",
       "      <th>27972</th>\n",
       "      <td>27972</td>\n",
       "      <td>7</td>\n",
       "    </tr>\n",
       "    <tr>\n",
       "      <th>27973</th>\n",
       "      <td>27973</td>\n",
       "      <td>7</td>\n",
       "    </tr>\n",
       "    <tr>\n",
       "      <th>27974</th>\n",
       "      <td>27974</td>\n",
       "      <td>7</td>\n",
       "    </tr>\n",
       "    <tr>\n",
       "      <th>27975</th>\n",
       "      <td>27975</td>\n",
       "      <td>7</td>\n",
       "    </tr>\n",
       "    <tr>\n",
       "      <th>27976</th>\n",
       "      <td>27976</td>\n",
       "      <td>7</td>\n",
       "    </tr>\n",
       "    <tr>\n",
       "      <th>27977</th>\n",
       "      <td>27977</td>\n",
       "      <td>7</td>\n",
       "    </tr>\n",
       "    <tr>\n",
       "      <th>27978</th>\n",
       "      <td>27978</td>\n",
       "      <td>7</td>\n",
       "    </tr>\n",
       "    <tr>\n",
       "      <th>27979</th>\n",
       "      <td>27979</td>\n",
       "      <td>7</td>\n",
       "    </tr>\n",
       "    <tr>\n",
       "      <th>27980</th>\n",
       "      <td>27980</td>\n",
       "      <td>7</td>\n",
       "    </tr>\n",
       "    <tr>\n",
       "      <th>27981</th>\n",
       "      <td>27981</td>\n",
       "      <td>7</td>\n",
       "    </tr>\n",
       "    <tr>\n",
       "      <th>27982</th>\n",
       "      <td>27982</td>\n",
       "      <td>7</td>\n",
       "    </tr>\n",
       "    <tr>\n",
       "      <th>27983</th>\n",
       "      <td>27983</td>\n",
       "      <td>7</td>\n",
       "    </tr>\n",
       "    <tr>\n",
       "      <th>27984</th>\n",
       "      <td>27984</td>\n",
       "      <td>7</td>\n",
       "    </tr>\n",
       "    <tr>\n",
       "      <th>27985</th>\n",
       "      <td>27985</td>\n",
       "      <td>7</td>\n",
       "    </tr>\n",
       "    <tr>\n",
       "      <th>27986</th>\n",
       "      <td>27986</td>\n",
       "      <td>7</td>\n",
       "    </tr>\n",
       "    <tr>\n",
       "      <th>27987</th>\n",
       "      <td>27987</td>\n",
       "      <td>7</td>\n",
       "    </tr>\n",
       "    <tr>\n",
       "      <th>27988</th>\n",
       "      <td>27988</td>\n",
       "      <td>7</td>\n",
       "    </tr>\n",
       "    <tr>\n",
       "      <th>27989</th>\n",
       "      <td>27989</td>\n",
       "      <td>7</td>\n",
       "    </tr>\n",
       "    <tr>\n",
       "      <th>27990</th>\n",
       "      <td>27990</td>\n",
       "      <td>7</td>\n",
       "    </tr>\n",
       "    <tr>\n",
       "      <th>27991</th>\n",
       "      <td>27991</td>\n",
       "      <td>7</td>\n",
       "    </tr>\n",
       "    <tr>\n",
       "      <th>27992</th>\n",
       "      <td>27992</td>\n",
       "      <td>7</td>\n",
       "    </tr>\n",
       "    <tr>\n",
       "      <th>27993</th>\n",
       "      <td>27993</td>\n",
       "      <td>7</td>\n",
       "    </tr>\n",
       "    <tr>\n",
       "      <th>27994</th>\n",
       "      <td>27994</td>\n",
       "      <td>7</td>\n",
       "    </tr>\n",
       "    <tr>\n",
       "      <th>27995</th>\n",
       "      <td>27995</td>\n",
       "      <td>7</td>\n",
       "    </tr>\n",
       "    <tr>\n",
       "      <th>27996</th>\n",
       "      <td>27996</td>\n",
       "      <td>7</td>\n",
       "    </tr>\n",
       "    <tr>\n",
       "      <th>27997</th>\n",
       "      <td>27997</td>\n",
       "      <td>7</td>\n",
       "    </tr>\n",
       "    <tr>\n",
       "      <th>27998</th>\n",
       "      <td>27998</td>\n",
       "      <td>7</td>\n",
       "    </tr>\n",
       "    <tr>\n",
       "      <th>27999</th>\n",
       "      <td>27999</td>\n",
       "      <td>7</td>\n",
       "    </tr>\n",
       "    <tr>\n",
       "      <th>28000</th>\n",
       "      <td>28000</td>\n",
       "      <td>7</td>\n",
       "    </tr>\n",
       "  </tbody>\n",
       "</table>\n",
       "<p>28000 rows × 2 columns</p>\n",
       "</div>"
      ],
      "text/plain": [
       "       ImageId  Label\n",
       "1            1      7\n",
       "2            2      7\n",
       "3            3      7\n",
       "4            4      7\n",
       "5            5      7\n",
       "...        ...    ...\n",
       "27996    27996      7\n",
       "27997    27997      7\n",
       "27998    27998      7\n",
       "27999    27999      7\n",
       "28000    28000      7\n",
       "\n",
       "[28000 rows x 2 columns]"
      ]
     },
     "execution_count": 168,
     "metadata": {},
     "output_type": "execute_result"
    }
   ],
   "source": [
    "data_to_submit"
   ]
  }
 ],
 "metadata": {
  "kernelspec": {
   "display_name": "Python 3",
   "language": "python",
   "name": "python3"
  },
  "language_info": {
   "codemirror_mode": {
    "name": "ipython",
    "version": 3
   },
   "file_extension": ".py",
   "mimetype": "text/x-python",
   "name": "python",
   "nbconvert_exporter": "python",
   "pygments_lexer": "ipython3",
   "version": "3.7.1"
  },
  "toc": {
   "base_numbering": 1,
   "nav_menu": {},
   "number_sections": true,
   "sideBar": true,
   "skip_h1_title": false,
   "title_cell": "Table of Contents",
   "title_sidebar": "Contents",
   "toc_cell": false,
   "toc_position": {},
   "toc_section_display": true,
   "toc_window_display": true
  }
 },
 "nbformat": 4,
 "nbformat_minor": 2
}
