{
 "cells": [
  {
   "cell_type": "code",
   "execution_count": 1,
   "metadata": {
    "ExecuteTime": {
     "end_time": "2020-06-27T14:21:04.608000Z",
     "start_time": "2020-06-27T14:20:56.713000Z"
    },
    "collapsed": true
   },
   "outputs": [],
   "source": [
    "import graphlab as gl\n",
    "from sklearn.datasets import make_moons\n",
    "import matplotlib.pyplot as plt\n",
    "%matplotlib inline"
   ]
  },
  {
   "cell_type": "markdown",
   "metadata": {},
   "source": [
    "# DBScan with Double-Moons Data."
   ]
  },
  {
   "cell_type": "code",
   "execution_count": 2,
   "metadata": {
    "ExecuteTime": {
     "end_time": "2020-06-27T14:21:05.976000Z",
     "start_time": "2020-06-27T14:21:05.964000Z"
    },
    "collapsed": false
   },
   "outputs": [
    {
     "name": "stdout",
     "output_type": "stream",
     "text": [
      "[[ 0.28171457  0.91044406]\n",
      " [ 0.8389241  -0.53005338]\n",
      " [ 0.40915474  0.80944352]\n",
      " [-0.98415213  0.13142155]\n",
      " [ 1.15919021  0.4910425 ]]\n"
     ]
    }
   ],
   "source": [
    "X, label = make_moons(n_samples=200, noise=0.1, random_state=19)\n",
    "print(X[:5,])"
   ]
  },
  {
   "cell_type": "markdown",
   "metadata": {},
   "source": [
    "## Modelling."
   ]
  },
  {
   "cell_type": "code",
   "execution_count": 3,
   "metadata": {
    "ExecuteTime": {
     "end_time": "2020-06-27T14:21:14.336000Z",
     "start_time": "2020-06-27T14:21:07.808000Z"
    },
    "collapsed": false
   },
   "outputs": [
    {
     "name": "stdout",
     "output_type": "stream",
     "text": [
      "This non-commercial license of GraphLab Create for academic use is assigned to yogitricahyono@gmail.com and will expire on June 27, 2021.\n"
     ]
    },
    {
     "name": "stderr",
     "output_type": "stream",
     "text": [
      "[INFO] graphlab.cython.cy_server: GraphLab Create v2.1 started. Logging: C:\\Users\\yogit\\AppData\\Local\\Temp\\graphlab_server_1593242467.log.0\n"
     ]
    },
    {
     "data": {
      "text/html": [
       "<pre>Starting brute force nearest neighbors model training.</pre>"
      ],
      "text/plain": [
       "Starting brute force nearest neighbors model training."
      ]
     },
     "metadata": {},
     "output_type": "display_data"
    },
    {
     "data": {
      "text/html": [
       "<pre>Starting blockwise similarity graph construction.</pre>"
      ],
      "text/plain": [
       "Starting blockwise similarity graph construction."
      ]
     },
     "metadata": {},
     "output_type": "display_data"
    },
    {
     "data": {
      "text/html": [
       "<pre>max rows per data block: 8190</pre>"
      ],
      "text/plain": [
       "max rows per data block: 8190"
      ]
     },
     "metadata": {},
     "output_type": "display_data"
    },
    {
     "data": {
      "text/html": [
       "<pre>number of reference data blocks: 8</pre>"
      ],
      "text/plain": [
       "number of reference data blocks: 8"
      ]
     },
     "metadata": {},
     "output_type": "display_data"
    },
    {
     "data": {
      "text/html": [
       "<pre>+---------+-------------+--------------+</pre>"
      ],
      "text/plain": [
       "+---------+-------------+--------------+"
      ]
     },
     "metadata": {},
     "output_type": "display_data"
    },
    {
     "data": {
      "text/html": [
       "<pre>| # Pairs | % Complete. | Elapsed Time |</pre>"
      ],
      "text/plain": [
       "| # Pairs | % Complete. | Elapsed Time |"
      ]
     },
     "metadata": {},
     "output_type": "display_data"
    },
    {
     "data": {
      "text/html": [
       "<pre>+---------+-------------+--------------+</pre>"
      ],
      "text/plain": [
       "+---------+-------------+--------------+"
      ]
     },
     "metadata": {},
     "output_type": "display_data"
    },
    {
     "data": {
      "text/html": [
       "<pre>| 4375    | 19.4444     | 0us          |</pre>"
      ],
      "text/plain": [
       "| 4375    | 19.4444     | 0us          |"
      ]
     },
     "metadata": {},
     "output_type": "display_data"
    },
    {
     "name": "stderr",
     "output_type": "stream",
     "text": [
      "[INFO] graphlab.toolkits.clustering.dbscan: Identifying noise points and core points.\n"
     ]
    },
    {
     "data": {
      "text/html": [
       "<pre>| 22500   | 100         | 0us          |</pre>"
      ],
      "text/plain": [
       "| 22500   | 100         | 0us          |"
      ]
     },
     "metadata": {},
     "output_type": "display_data"
    },
    {
     "data": {
      "text/html": [
       "<pre>+---------+-------------+--------------+</pre>"
      ],
      "text/plain": [
       "+---------+-------------+--------------+"
      ]
     },
     "metadata": {},
     "output_type": "display_data"
    },
    {
     "name": "stderr",
     "output_type": "stream",
     "text": [
      "[INFO] graphlab.toolkits.clustering.dbscan: Constructing the core point similarity graph.\n"
     ]
    },
    {
     "data": {
      "text/html": [
       "<pre>+-----------------------------+</pre>"
      ],
      "text/plain": [
       "+-----------------------------+"
      ]
     },
     "metadata": {},
     "output_type": "display_data"
    },
    {
     "data": {
      "text/html": [
       "<pre>| Number of components merged |</pre>"
      ],
      "text/plain": [
       "| Number of components merged |"
      ]
     },
     "metadata": {},
     "output_type": "display_data"
    },
    {
     "data": {
      "text/html": [
       "<pre>+-----------------------------+</pre>"
      ],
      "text/plain": [
       "+-----------------------------+"
      ]
     },
     "metadata": {},
     "output_type": "display_data"
    },
    {
     "data": {
      "text/html": [
       "<pre>| 1063                        |</pre>"
      ],
      "text/plain": [
       "| 1063                        |"
      ]
     },
     "metadata": {},
     "output_type": "display_data"
    },
    {
     "data": {
      "text/html": [
       "<pre>| 0                           |</pre>"
      ],
      "text/plain": [
       "| 0                           |"
      ]
     },
     "metadata": {},
     "output_type": "display_data"
    },
    {
     "data": {
      "text/html": [
       "<pre>+-----------------------------+</pre>"
      ],
      "text/plain": [
       "+-----------------------------+"
      ]
     },
     "metadata": {},
     "output_type": "display_data"
    },
    {
     "name": "stderr",
     "output_type": "stream",
     "text": [
      "[INFO] graphlab.toolkits.clustering.dbscan: Processing boundary points.\n"
     ]
    }
   ],
   "source": [
    "sf = gl.SFrame(X)\n",
    "sf = sf.unpack('X1')\n",
    "model = gl.dbscan.create(sf,radius=0.25, min_core_neighbors=10)"
   ]
  },
  {
   "cell_type": "code",
   "execution_count": 4,
   "metadata": {
    "ExecuteTime": {
     "end_time": "2020-06-27T14:21:23.491000Z",
     "start_time": "2020-06-27T14:21:23.482000Z"
    },
    "collapsed": false
   },
   "outputs": [
    {
     "name": "stdout",
     "output_type": "stream",
     "text": [
      "Class                                    : DBSCANModel\n",
      "\n",
      "Schema\n",
      "------\n",
      "Number of examples                       : 200\n",
      "Number of feature columns                : 2\n",
      "Max distance to a neighbor (radius)      : 0.25\n",
      "Min number of neighbors for core points  : 10\n",
      "Number of distance components            : 1\n",
      "\n",
      "Training summary\n",
      "----------------\n",
      "Total training time (seconds)            : 3.858\n",
      "Number of clusters                       : 2\n",
      "\n",
      "Accessible fields\n",
      "-----------------\n",
      "cluster_id                              : Cluster label for each row in the input dataset.\n"
     ]
    }
   ],
   "source": [
    "model.summary()"
   ]
  },
  {
   "cell_type": "code",
   "execution_count": 5,
   "metadata": {
    "ExecuteTime": {
     "end_time": "2020-06-27T14:21:26.310000Z",
     "start_time": "2020-06-27T14:21:26.178000Z"
    },
    "collapsed": false
   },
   "outputs": [
    {
     "data": {
      "text/html": [
       "<div style=\"max-height:1000px;max-width:1500px;overflow:auto;\"><table frame=\"box\" rules=\"cols\">\n",
       "    <tr>\n",
       "        <th style=\"padding-left: 1em; padding-right: 1em; text-align: center\">row_id</th>\n",
       "        <th style=\"padding-left: 1em; padding-right: 1em; text-align: center\">cluster_id</th>\n",
       "        <th style=\"padding-left: 1em; padding-right: 1em; text-align: center\">type</th>\n",
       "    </tr>\n",
       "    <tr>\n",
       "        <td style=\"padding-left: 1em; padding-right: 1em; text-align: center; vertical-align: top\">175</td>\n",
       "        <td style=\"padding-left: 1em; padding-right: 1em; text-align: center; vertical-align: top\">0</td>\n",
       "        <td style=\"padding-left: 1em; padding-right: 1em; text-align: center; vertical-align: top\">core</td>\n",
       "    </tr>\n",
       "    <tr>\n",
       "        <td style=\"padding-left: 1em; padding-right: 1em; text-align: center; vertical-align: top\">110</td>\n",
       "        <td style=\"padding-left: 1em; padding-right: 1em; text-align: center; vertical-align: top\">0</td>\n",
       "        <td style=\"padding-left: 1em; padding-right: 1em; text-align: center; vertical-align: top\">core</td>\n",
       "    </tr>\n",
       "    <tr>\n",
       "        <td style=\"padding-left: 1em; padding-right: 1em; text-align: center; vertical-align: top\">96</td>\n",
       "        <td style=\"padding-left: 1em; padding-right: 1em; text-align: center; vertical-align: top\">0</td>\n",
       "        <td style=\"padding-left: 1em; padding-right: 1em; text-align: center; vertical-align: top\">core</td>\n",
       "    </tr>\n",
       "    <tr>\n",
       "        <td style=\"padding-left: 1em; padding-right: 1em; text-align: center; vertical-align: top\">92</td>\n",
       "        <td style=\"padding-left: 1em; padding-right: 1em; text-align: center; vertical-align: top\">0</td>\n",
       "        <td style=\"padding-left: 1em; padding-right: 1em; text-align: center; vertical-align: top\">core</td>\n",
       "    </tr>\n",
       "    <tr>\n",
       "        <td style=\"padding-left: 1em; padding-right: 1em; text-align: center; vertical-align: top\">115</td>\n",
       "        <td style=\"padding-left: 1em; padding-right: 1em; text-align: center; vertical-align: top\">1</td>\n",
       "        <td style=\"padding-left: 1em; padding-right: 1em; text-align: center; vertical-align: top\">core</td>\n",
       "    </tr>\n",
       "    <tr>\n",
       "        <td style=\"padding-left: 1em; padding-right: 1em; text-align: center; vertical-align: top\">73</td>\n",
       "        <td style=\"padding-left: 1em; padding-right: 1em; text-align: center; vertical-align: top\">1</td>\n",
       "        <td style=\"padding-left: 1em; padding-right: 1em; text-align: center; vertical-align: top\">core</td>\n",
       "    </tr>\n",
       "    <tr>\n",
       "        <td style=\"padding-left: 1em; padding-right: 1em; text-align: center; vertical-align: top\">155</td>\n",
       "        <td style=\"padding-left: 1em; padding-right: 1em; text-align: center; vertical-align: top\">1</td>\n",
       "        <td style=\"padding-left: 1em; padding-right: 1em; text-align: center; vertical-align: top\">core</td>\n",
       "    </tr>\n",
       "    <tr>\n",
       "        <td style=\"padding-left: 1em; padding-right: 1em; text-align: center; vertical-align: top\">136</td>\n",
       "        <td style=\"padding-left: 1em; padding-right: 1em; text-align: center; vertical-align: top\">1</td>\n",
       "        <td style=\"padding-left: 1em; padding-right: 1em; text-align: center; vertical-align: top\">core</td>\n",
       "    </tr>\n",
       "    <tr>\n",
       "        <td style=\"padding-left: 1em; padding-right: 1em; text-align: center; vertical-align: top\">5</td>\n",
       "        <td style=\"padding-left: 1em; padding-right: 1em; text-align: center; vertical-align: top\">0</td>\n",
       "        <td style=\"padding-left: 1em; padding-right: 1em; text-align: center; vertical-align: top\">core</td>\n",
       "    </tr>\n",
       "    <tr>\n",
       "        <td style=\"padding-left: 1em; padding-right: 1em; text-align: center; vertical-align: top\">7</td>\n",
       "        <td style=\"padding-left: 1em; padding-right: 1em; text-align: center; vertical-align: top\">0</td>\n",
       "        <td style=\"padding-left: 1em; padding-right: 1em; text-align: center; vertical-align: top\">core</td>\n",
       "    </tr>\n",
       "</table>\n",
       "[200 rows x 3 columns]<br/>Note: Only the head of the SFrame is printed.<br/>You can use print_rows(num_rows=m, num_columns=n) to print more rows and columns.\n",
       "</div>"
      ],
      "text/plain": [
       "Columns:\n",
       "\trow_id\tint\n",
       "\tcluster_id\tint\n",
       "\ttype\tstr\n",
       "\n",
       "Rows: 200\n",
       "\n",
       "Data:\n",
       "+--------+------------+------+\n",
       "| row_id | cluster_id | type |\n",
       "+--------+------------+------+\n",
       "|  175   |     0      | core |\n",
       "|  110   |     0      | core |\n",
       "|   96   |     0      | core |\n",
       "|   92   |     0      | core |\n",
       "|  115   |     1      | core |\n",
       "|   73   |     1      | core |\n",
       "|  155   |     1      | core |\n",
       "|  136   |     1      | core |\n",
       "|   5    |     0      | core |\n",
       "|   7    |     0      | core |\n",
       "+--------+------------+------+\n",
       "[200 rows x 3 columns]\n",
       "Note: Only the head of the SFrame is printed.\n",
       "You can use print_rows(num_rows=m, num_columns=n) to print more rows and columns."
      ]
     },
     "execution_count": 5,
     "metadata": {},
     "output_type": "execute_result"
    }
   ],
   "source": [
    "model['cluster_id']"
   ]
  },
  {
   "cell_type": "markdown",
   "metadata": {},
   "source": [
    "## Plot by instance type"
   ]
  },
  {
   "cell_type": "code",
   "execution_count": 6,
   "metadata": {
    "ExecuteTime": {
     "end_time": "2020-06-27T14:21:33.380000Z",
     "start_time": "2020-06-27T14:21:33.347000Z"
    },
    "collapsed": true
   },
   "outputs": [],
   "source": [
    "sf_out = sf.add_row_number('row_id')\n",
    "sf_out = sf_out.join(model['cluster_id'], on='row_id', how='left')"
   ]
  },
  {
   "cell_type": "code",
   "execution_count": 7,
   "metadata": {
    "ExecuteTime": {
     "end_time": "2020-06-27T14:21:42.689000Z",
     "start_time": "2020-06-27T14:21:34.616000Z"
    },
    "collapsed": true
   },
   "outputs": [],
   "source": [
    "type_map = {k: v for v, k in enumerate(sf_out['type'].unique())}\n",
    "sf_out['type_code'] = sf_out['type'].apply(lambda x: type_map[x])"
   ]
  },
  {
   "cell_type": "code",
   "execution_count": 8,
   "metadata": {
    "ExecuteTime": {
     "end_time": "2020-06-27T14:21:43.278000Z",
     "start_time": "2020-06-27T14:21:42.702000Z"
    },
    "collapsed": false
   },
   "outputs": [
    {
     "name": "stderr",
     "output_type": "stream",
     "text": [
      "C:\\Users\\yogit\\Anaconda2\\lib\\site-packages\\matplotlib\\figure.py:397: UserWarning: matplotlib is currently using a non-GUI backend, so cannot show the figure\n",
      "  \"matplotlib is currently using a non-GUI backend, \"\n"
     ]
    },
    {
     "data": {
      "image/png": "[encoded data removed]",
      "text/plain": [
       "<matplotlib.figure.Figure at 0x1d98f160>"
      ]
     },
     "metadata": {},
     "output_type": "display_data"
    }
   ],
   "source": [
    "fig, ax = plt.subplots(figsize=(10,8))\n",
    "ax.scatter(sf_out['X1.0'], sf_out['X1.1'], c=sf_out['type_code'],\n",
    "          s = 140, alpha=0.9, cmap=plt.cm.Set1)\n",
    "fig.show()"
   ]
  },
  {
   "cell_type": "code",
   "execution_count": null,
   "metadata": {
    "ExecuteTime": {
     "end_time": "2020-06-27T14:13:03.798000Z",
     "start_time": "2020-06-27T14:13:03.008000Z"
    },
    "collapsed": true
   },
   "outputs": [],
   "source": [
    "model['cluster_id'].show()"
   ]
  },
  {
   "cell_type": "code",
   "execution_count": 9,
   "metadata": {
    "ExecuteTime": {
     "end_time": "2020-06-27T14:21:48.279000Z",
     "start_time": "2020-06-27T14:21:48.084000Z"
    },
    "collapsed": false
   },
   "outputs": [
    {
     "data": {
      "text/html": [
       "<div style=\"max-height:1000px;max-width:1500px;overflow:auto;\"><table frame=\"box\" rules=\"cols\">\n",
       "    <tr>\n",
       "        <th style=\"padding-left: 1em; padding-right: 1em; text-align: center\">row_id</th>\n",
       "        <th style=\"padding-left: 1em; padding-right: 1em; text-align: center\">X1.0</th>\n",
       "        <th style=\"padding-left: 1em; padding-right: 1em; text-align: center\">X1.1</th>\n",
       "        <th style=\"padding-left: 1em; padding-right: 1em; text-align: center\">cluster_id</th>\n",
       "        <th style=\"padding-left: 1em; padding-right: 1em; text-align: center\">type</th>\n",
       "        <th style=\"padding-left: 1em; padding-right: 1em; text-align: center\">type_code</th>\n",
       "    </tr>\n",
       "    <tr>\n",
       "        <td style=\"padding-left: 1em; padding-right: 1em; text-align: center; vertical-align: top\">175</td>\n",
       "        <td style=\"padding-left: 1em; padding-right: 1em; text-align: center; vertical-align: top\">-0.931366638307</td>\n",
       "        <td style=\"padding-left: 1em; padding-right: 1em; text-align: center; vertical-align: top\">0.629593906587</td>\n",
       "        <td style=\"padding-left: 1em; padding-right: 1em; text-align: center; vertical-align: top\">0</td>\n",
       "        <td style=\"padding-left: 1em; padding-right: 1em; text-align: center; vertical-align: top\">core</td>\n",
       "        <td style=\"padding-left: 1em; padding-right: 1em; text-align: center; vertical-align: top\">1</td>\n",
       "    </tr>\n",
       "    <tr>\n",
       "        <td style=\"padding-left: 1em; padding-right: 1em; text-align: center; vertical-align: top\">110</td>\n",
       "        <td style=\"padding-left: 1em; padding-right: 1em; text-align: center; vertical-align: top\">-0.512525986991</td>\n",
       "        <td style=\"padding-left: 1em; padding-right: 1em; text-align: center; vertical-align: top\">0.681034014781</td>\n",
       "        <td style=\"padding-left: 1em; padding-right: 1em; text-align: center; vertical-align: top\">0</td>\n",
       "        <td style=\"padding-left: 1em; padding-right: 1em; text-align: center; vertical-align: top\">core</td>\n",
       "        <td style=\"padding-left: 1em; padding-right: 1em; text-align: center; vertical-align: top\">1</td>\n",
       "    </tr>\n",
       "    <tr>\n",
       "        <td style=\"padding-left: 1em; padding-right: 1em; text-align: center; vertical-align: top\">96</td>\n",
       "        <td style=\"padding-left: 1em; padding-right: 1em; text-align: center; vertical-align: top\">0.360087431684</td>\n",
       "        <td style=\"padding-left: 1em; padding-right: 1em; text-align: center; vertical-align: top\">1.06137585307</td>\n",
       "        <td style=\"padding-left: 1em; padding-right: 1em; text-align: center; vertical-align: top\">0</td>\n",
       "        <td style=\"padding-left: 1em; padding-right: 1em; text-align: center; vertical-align: top\">core</td>\n",
       "        <td style=\"padding-left: 1em; padding-right: 1em; text-align: center; vertical-align: top\">1</td>\n",
       "    </tr>\n",
       "    <tr>\n",
       "        <td style=\"padding-left: 1em; padding-right: 1em; text-align: center; vertical-align: top\">92</td>\n",
       "        <td style=\"padding-left: 1em; padding-right: 1em; text-align: center; vertical-align: top\">-0.000194960525427</td>\n",
       "        <td style=\"padding-left: 1em; padding-right: 1em; text-align: center; vertical-align: top\">0.998399325629</td>\n",
       "        <td style=\"padding-left: 1em; padding-right: 1em; text-align: center; vertical-align: top\">0</td>\n",
       "        <td style=\"padding-left: 1em; padding-right: 1em; text-align: center; vertical-align: top\">core</td>\n",
       "        <td style=\"padding-left: 1em; padding-right: 1em; text-align: center; vertical-align: top\">1</td>\n",
       "    </tr>\n",
       "    <tr>\n",
       "        <td style=\"padding-left: 1em; padding-right: 1em; text-align: center; vertical-align: top\">115</td>\n",
       "        <td style=\"padding-left: 1em; padding-right: 1em; text-align: center; vertical-align: top\">1.75317377592</td>\n",
       "        <td style=\"padding-left: 1em; padding-right: 1em; text-align: center; vertical-align: top\">-0.0961061336774</td>\n",
       "        <td style=\"padding-left: 1em; padding-right: 1em; text-align: center; vertical-align: top\">1</td>\n",
       "        <td style=\"padding-left: 1em; padding-right: 1em; text-align: center; vertical-align: top\">core</td>\n",
       "        <td style=\"padding-left: 1em; padding-right: 1em; text-align: center; vertical-align: top\">1</td>\n",
       "    </tr>\n",
       "    <tr>\n",
       "        <td style=\"padding-left: 1em; padding-right: 1em; text-align: center; vertical-align: top\">73</td>\n",
       "        <td style=\"padding-left: 1em; padding-right: 1em; text-align: center; vertical-align: top\">0.0717386403349</td>\n",
       "        <td style=\"padding-left: 1em; padding-right: 1em; text-align: center; vertical-align: top\">0.219313655652</td>\n",
       "        <td style=\"padding-left: 1em; padding-right: 1em; text-align: center; vertical-align: top\">1</td>\n",
       "        <td style=\"padding-left: 1em; padding-right: 1em; text-align: center; vertical-align: top\">core</td>\n",
       "        <td style=\"padding-left: 1em; padding-right: 1em; text-align: center; vertical-align: top\">1</td>\n",
       "    </tr>\n",
       "    <tr>\n",
       "        <td style=\"padding-left: 1em; padding-right: 1em; text-align: center; vertical-align: top\">155</td>\n",
       "        <td style=\"padding-left: 1em; padding-right: 1em; text-align: center; vertical-align: top\">0.305950835218</td>\n",
       "        <td style=\"padding-left: 1em; padding-right: 1em; text-align: center; vertical-align: top\">-0.176371745067</td>\n",
       "        <td style=\"padding-left: 1em; padding-right: 1em; text-align: center; vertical-align: top\">1</td>\n",
       "        <td style=\"padding-left: 1em; padding-right: 1em; text-align: center; vertical-align: top\">core</td>\n",
       "        <td style=\"padding-left: 1em; padding-right: 1em; text-align: center; vertical-align: top\">1</td>\n",
       "    </tr>\n",
       "    <tr>\n",
       "        <td style=\"padding-left: 1em; padding-right: 1em; text-align: center; vertical-align: top\">136</td>\n",
       "        <td style=\"padding-left: 1em; padding-right: 1em; text-align: center; vertical-align: top\">0.118514445974</td>\n",
       "        <td style=\"padding-left: 1em; padding-right: 1em; text-align: center; vertical-align: top\">0.0617020285605</td>\n",
       "        <td style=\"padding-left: 1em; padding-right: 1em; text-align: center; vertical-align: top\">1</td>\n",
       "        <td style=\"padding-left: 1em; padding-right: 1em; text-align: center; vertical-align: top\">core</td>\n",
       "        <td style=\"padding-left: 1em; padding-right: 1em; text-align: center; vertical-align: top\">1</td>\n",
       "    </tr>\n",
       "    <tr>\n",
       "        <td style=\"padding-left: 1em; padding-right: 1em; text-align: center; vertical-align: top\">5</td>\n",
       "        <td style=\"padding-left: 1em; padding-right: 1em; text-align: center; vertical-align: top\">-0.967034863976</td>\n",
       "        <td style=\"padding-left: 1em; padding-right: 1em; text-align: center; vertical-align: top\">0.0981273018491</td>\n",
       "        <td style=\"padding-left: 1em; padding-right: 1em; text-align: center; vertical-align: top\">0</td>\n",
       "        <td style=\"padding-left: 1em; padding-right: 1em; text-align: center; vertical-align: top\">core</td>\n",
       "        <td style=\"padding-left: 1em; padding-right: 1em; text-align: center; vertical-align: top\">1</td>\n",
       "    </tr>\n",
       "    <tr>\n",
       "        <td style=\"padding-left: 1em; padding-right: 1em; text-align: center; vertical-align: top\">7</td>\n",
       "        <td style=\"padding-left: 1em; padding-right: 1em; text-align: center; vertical-align: top\">0.978275080963</td>\n",
       "        <td style=\"padding-left: 1em; padding-right: 1em; text-align: center; vertical-align: top\">0.501470014515</td>\n",
       "        <td style=\"padding-left: 1em; padding-right: 1em; text-align: center; vertical-align: top\">0</td>\n",
       "        <td style=\"padding-left: 1em; padding-right: 1em; text-align: center; vertical-align: top\">core</td>\n",
       "        <td style=\"padding-left: 1em; padding-right: 1em; text-align: center; vertical-align: top\">1</td>\n",
       "    </tr>\n",
       "</table>\n",
       "[200 rows x 6 columns]<br/>Note: Only the head of the SFrame is printed.<br/>You can use print_rows(num_rows=m, num_columns=n) to print more rows and columns.\n",
       "</div>"
      ],
      "text/plain": [
       "Columns:\n",
       "\trow_id\tint\n",
       "\tX1.0\tfloat\n",
       "\tX1.1\tfloat\n",
       "\tcluster_id\tint\n",
       "\ttype\tstr\n",
       "\ttype_code\tint\n",
       "\n",
       "Rows: 200\n",
       "\n",
       "Data:\n",
       "+--------+--------------------+------------------+------------+------+-----------+\n",
       "| row_id |        X1.0        |       X1.1       | cluster_id | type | type_code |\n",
       "+--------+--------------------+------------------+------------+------+-----------+\n",
       "|  175   |  -0.931366638307   |  0.629593906587  |     0      | core |     1     |\n",
       "|  110   |  -0.512525986991   |  0.681034014781  |     0      | core |     1     |\n",
       "|   96   |   0.360087431684   |  1.06137585307   |     0      | core |     1     |\n",
       "|   92   | -0.000194960525427 |  0.998399325629  |     0      | core |     1     |\n",
       "|  115   |   1.75317377592    | -0.0961061336774 |     1      | core |     1     |\n",
       "|   73   |  0.0717386403349   |  0.219313655652  |     1      | core |     1     |\n",
       "|  155   |   0.305950835218   | -0.176371745067  |     1      | core |     1     |\n",
       "|  136   |   0.118514445974   | 0.0617020285605  |     1      | core |     1     |\n",
       "|   5    |  -0.967034863976   | 0.0981273018491  |     0      | core |     1     |\n",
       "|   7    |   0.978275080963   |  0.501470014515  |     0      | core |     1     |\n",
       "+--------+--------------------+------------------+------------+------+-----------+\n",
       "[200 rows x 6 columns]\n",
       "Note: Only the head of the SFrame is printed.\n",
       "You can use print_rows(num_rows=m, num_columns=n) to print more rows and columns."
      ]
     },
     "execution_count": 9,
     "metadata": {},
     "output_type": "execute_result"
    }
   ],
   "source": [
    "sf_out"
   ]
  },
  {
   "cell_type": "markdown",
   "metadata": {},
   "source": [
    "---"
   ]
  },
  {
   "cell_type": "markdown",
   "metadata": {},
   "source": [
    "# Level Set Tree with Two Moons"
   ]
  },
  {
   "cell_type": "code",
   "execution_count": 10,
   "metadata": {
    "ExecuteTime": {
     "end_time": "2020-06-27T14:21:54.165000Z",
     "start_time": "2020-06-27T14:21:53.956000Z"
    },
    "collapsed": true
   },
   "outputs": [],
   "source": [
    "from sklearn.datasets import make_moons\n",
    "#syntactic brevity\n",
    "import debacl as dcl\n",
    "\n",
    "import matplotlib.pyplot as plt\n",
    "plt.style.use('grayscale')\n",
    "%matplotlib notebook"
   ]
  },
  {
   "cell_type": "markdown",
   "metadata": {},
   "source": [
    "K = connectivity parameter: Epsilon in DBScan.\n",
    "prune_threshold: if leave has fewer than 10 points just merge it with its siblings. it makes tree little smoother"
   ]
  },
  {
   "cell_type": "code",
   "execution_count": 11,
   "metadata": {
    "ExecuteTime": {
     "end_time": "2020-06-27T14:21:56.234000Z",
     "start_time": "2020-06-27T14:21:56.068000Z"
    },
    "collapsed": false
   },
   "outputs": [
    {
     "name": "stdout",
     "output_type": "stream",
     "text": [
      "+----+-------------+-----------+------------+----------+------+--------+----------+\n",
      "| id | start_level | end_level | start_mass | end_mass | size | parent | children |\n",
      "+----+-------------+-----------+------------+----------+------+--------+----------+\n",
      "| 0  |    0.000    |   0.185   |   0.000    |  0.195   | 200  |  None  |  [1, 2]  |\n",
      "| 1  |    0.185    |   0.411   |   0.195    |  1.000   |  82  |   0    |    []    |\n",
      "| 2  |    0.185    |   0.366   |   0.195    |  0.945   |  79  |   0    |    []    |\n",
      "+----+-------------+-----------+------------+----------+------+--------+----------+\n"
     ]
    }
   ],
   "source": [
    "tree = dcl.construct_tree(X, k=20, prune_threshold=10, verbose=True)\n",
    "print(tree)"
   ]
  },
  {
   "cell_type": "code",
   "execution_count": 12,
   "metadata": {
    "ExecuteTime": {
     "end_time": "2020-06-27T14:23:53.849000Z",
     "start_time": "2020-06-27T14:23:53.692000Z"
    },
    "collapsed": false
   },
   "outputs": [
    {
     "data": {
      "application/javascript": [
       "/* Put everything inside the global mpl namespace */\n",
       "window.mpl = {};\n",
       "\n",
       "mpl.get_websocket_type = function() {\n",
       "    if (typeof(WebSocket) !== 'undefined') {\n",
       "        return WebSocket;\n",
       "    } else if (typeof(MozWebSocket) !== 'undefined') {\n",
       "        return MozWebSocket;\n",
       "    } else {\n",
       "        alert('Your browser does not have WebSocket support.' +\n",
       "              'Please try Chrome, Safari or Firefox ≥ 6. ' +\n",
       "              'Firefox 4 and 5 are also supported but you ' +\n",
       "              'have to enable WebSockets in about:config.');\n",
       "    };\n",
       "}\n",
       "\n",
       "mpl.figure = function(figure_id, websocket, ondownload, parent_element) {\n",
       "    this.id = figure_id;\n",
       "\n",
       "    this.ws = websocket;\n",
       "\n",
       "    this.supports_binary = (this.ws.binaryType != undefined);\n",
       "\n",
       "    if (!this.supports_binary) {\n",
       "        var warnings = document.getElementById(\"mpl-warnings\");\n",
       "        if (warnings) {\n",
       "            warnings.style.display = 'block';\n",
       "            warnings.textContent = (\n",
       "                \"This browser does not support binary websocket messages. \" +\n",
       "                    \"Performance may be slow.\");\n",
       "        }\n",
       "    }\n",
       "\n",
       "    this.imageObj = new Image();\n",
       "\n",
       "    this.context = undefined;\n",
       "    this.message = undefined;\n",
       "    this.canvas = undefined;\n",
       "    this.rubberband_canvas = undefined;\n",
       "    this.rubberband_context = undefined;\n",
       "    this.format_dropdown = undefined;\n",
       "\n",
       "    this.image_mode = 'full';\n",
       "\n",
       "    this.root = $('<div/>');\n",
       "    this._root_extra_style(this.root)\n",
       "    this.root.attr('style', 'display: inline-block');\n",
       "\n",
       "    $(parent_element).append(this.root);\n",
       "\n",
       "    this._init_header(this);\n",
       "    this._init_canvas(this);\n",
       "    this._init_toolbar(this);\n",
       "\n",
       "    var fig = this;\n",
       "\n",
       "    this.waiting = false;\n",
       "\n",
       "    this.ws.onopen =  function () {\n",
       "            fig.send_message(\"supports_binary\", {value: fig.supports_binary});\n",
       "            fig.send_message(\"send_image_mode\", {});\n",
       "            fig.send_message(\"refresh\", {});\n",
       "        }\n",
       "\n",
       "    this.imageObj.onload = function() {\n",
       "            if (fig.image_mode == 'full') {\n",
       "                // Full images could contain transparency (where diff images\n",
       "                // almost always do), so we need to clear the canvas so that\n",
       "                // there is no ghosting.\n",
       "                fig.context.clearRect(0, 0, fig.canvas.width, fig.canvas.height);\n",
       "            }\n",
       "            fig.context.drawImage(fig.imageObj, 0, 0);\n",
       "        };\n",
       "\n",
       "    this.imageObj.onunload = function() {\n",
       "        this.ws.close();\n",
       "    }\n",
       "\n",
       "    this.ws.onmessage = this._make_on_message_function(this);\n",
       "\n",
       "    this.ondownload = ondownload;\n",
       "}\n",
       "\n",
       "mpl.figure.prototype._init_header = function() {\n",
       "    var titlebar = $(\n",
       "        '<div class=\"ui-dialog-titlebar ui-widget-header ui-corner-all ' +\n",
       "        'ui-helper-clearfix\"/>');\n",
       "    var titletext = $(\n",
       "        '<div class=\"ui-dialog-title\" style=\"width: 100%; ' +\n",
       "        'text-align: center; padding: 3px;\"/>');\n",
       "    titlebar.append(titletext)\n",
       "    this.root.append(titlebar);\n",
       "    this.header = titletext[0];\n",
       "}\n",
       "\n",
       "\n",
       "\n",
       "mpl.figure.prototype._canvas_extra_style = function(canvas_div) {\n",
       "\n",
       "}\n",
       "\n",
       "\n",
       "mpl.figure.prototype._root_extra_style = function(canvas_div) {\n",
       "\n",
       "}\n",
       "\n",
       "mpl.figure.prototype._init_canvas = function() {\n",
       "    var fig = this;\n",
       "\n",
       "    var canvas_div = $('<div/>');\n",
       "\n",
       "    canvas_div.attr('style', 'position: relative; clear: both; outline: 0');\n",
       "\n",
       "    function canvas_keyboard_event(event) {\n",
       "        return fig.key_event(event, event['data']);\n",
       "    }\n",
       "\n",
       "    canvas_div.keydown('key_press', canvas_keyboard_event);\n",
       "    canvas_div.keyup('key_release', canvas_keyboard_event);\n",
       "    this.canvas_div = canvas_div\n",
       "    this._canvas_extra_style(canvas_div)\n",
       "    this.root.append(canvas_div);\n",
       "\n",
       "    var canvas = $('<canvas/>');\n",
       "    canvas.addClass('mpl-canvas');\n",
       "    canvas.attr('style', \"left: 0; top: 0; z-index: 0; outline: 0\")\n",
       "\n",
       "    this.canvas = canvas[0];\n",
       "    this.context = canvas[0].getContext(\"2d\");\n",
       "\n",
       "    var rubberband = $('<canvas/>');\n",
       "    rubberband.attr('style', \"position: absolute; left: 0; top: 0; z-index: 1;\")\n",
       "\n",
       "    var pass_mouse_events = true;\n",
       "\n",
       "    canvas_div.resizable({\n",
       "        start: function(event, ui) {\n",
       "            pass_mouse_events = false;\n",
       "        },\n",
       "        resize: function(event, ui) {\n",
       "            fig.request_resize(ui.size.width, ui.size.height);\n",
       "        },\n",
       "        stop: function(event, ui) {\n",
       "            pass_mouse_events = true;\n",
       "            fig.request_resize(ui.size.width, ui.size.height);\n",
       "        },\n",
       "    });\n",
       "\n",
       "    function mouse_event_fn(event) {\n",
       "        if (pass_mouse_events)\n",
       "            return fig.mouse_event(event, event['data']);\n",
       "    }\n",
       "\n",
       "    rubberband.mousedown('button_press', mouse_event_fn);\n",
       "    rubberband.mouseup('button_release', mouse_event_fn);\n",
       "    // Throttle sequential mouse events to 1 every 20ms.\n",
       "    rubberband.mousemove('motion_notify', mouse_event_fn);\n",
       "\n",
       "    rubberband.mouseenter('figure_enter', mouse_event_fn);\n",
       "    rubberband.mouseleave('figure_leave', mouse_event_fn);\n",
       "\n",
       "    canvas_div.on(\"wheel\", function (event) {\n",
       "        event = event.originalEvent;\n",
       "        event['data'] = 'scroll'\n",
       "        if (event.deltaY < 0) {\n",
       "            event.step = 1;\n",
       "        } else {\n",
       "            event.step = -1;\n",
       "        }\n",
       "        mouse_event_fn(event);\n",
       "    });\n",
       "\n",
       "    canvas_div.append(canvas);\n",
       "    canvas_div.append(rubberband);\n",
       "\n",
       "    this.rubberband = rubberband;\n",
       "    this.rubberband_canvas = rubberband[0];\n",
       "    this.rubberband_context = rubberband[0].getContext(\"2d\");\n",
       "    this.rubberband_context.strokeStyle = \"#000000\";\n",
       "\n",
       "    this._resize_canvas = function(width, height) {\n",
       "        // Keep the size of the canvas, canvas container, and rubber band\n",
       "        // canvas in synch.\n",
       "        canvas_div.css('width', width)\n",
       "        canvas_div.css('height', height)\n",
       "\n",
       "        canvas.attr('width', width);\n",
       "        canvas.attr('height', height);\n",
       "\n",
       "        rubberband.attr('width', width);\n",
       "        rubberband.attr('height', height);\n",
       "    }\n",
       "\n",
       "    // Set the figure to an initial 600x600px, this will subsequently be updated\n",
       "    // upon first draw.\n",
       "    this._resize_canvas(600, 600);\n",
       "\n",
       "    // Disable right mouse context menu.\n",
       "    $(this.rubberband_canvas).bind(\"contextmenu\",function(e){\n",
       "        return false;\n",
       "    });\n",
       "\n",
       "    function set_focus () {\n",
       "        canvas.focus();\n",
       "        canvas_div.focus();\n",
       "    }\n",
       "\n",
       "    window.setTimeout(set_focus, 100);\n",
       "}\n",
       "\n",
       "mpl.figure.prototype._init_toolbar = function() {\n",
       "    var fig = this;\n",
       "\n",
       "    var nav_element = $('<div/>')\n",
       "    nav_element.attr('style', 'width: 100%');\n",
       "    this.root.append(nav_element);\n",
       "\n",
       "    // Define a callback function for later on.\n",
       "    function toolbar_event(event) {\n",
       "        return fig.toolbar_button_onclick(event['data']);\n",
       "    }\n",
       "    function toolbar_mouse_event(event) {\n",
       "        return fig.toolbar_button_onmouseover(event['data']);\n",
       "    }\n",
       "\n",
       "    for(var toolbar_ind in mpl.toolbar_items) {\n",
       "        var name = mpl.toolbar_items[toolbar_ind][0];\n",
       "        var tooltip = mpl.toolbar_items[toolbar_ind][1];\n",
       "        var image = mpl.toolbar_items[toolbar_ind][2];\n",
       "        var method_name = mpl.toolbar_items[toolbar_ind][3];\n",
       "\n",
       "        if (!name) {\n",
       "            // put a spacer in here.\n",
       "            continue;\n",
       "        }\n",
       "        var button = $('<button/>');\n",
       "        button.addClass('ui-button ui-widget ui-state-default ui-corner-all ' +\n",
       "                        'ui-button-icon-only');\n",
       "        button.attr('role', 'button');\n",
       "        button.attr('aria-disabled', 'false');\n",
       "        button.click(method_name, toolbar_event);\n",
       "        button.mouseover(tooltip, toolbar_mouse_event);\n",
       "\n",
       "        var icon_img = $('<span/>');\n",
       "        icon_img.addClass('ui-button-icon-primary ui-icon');\n",
       "        icon_img.addClass(image);\n",
       "        icon_img.addClass('ui-corner-all');\n",
       "\n",
       "        var tooltip_span = $('<span/>');\n",
       "        tooltip_span.addClass('ui-button-text');\n",
       "        tooltip_span.html(tooltip);\n",
       "\n",
       "        button.append(icon_img);\n",
       "        button.append(tooltip_span);\n",
       "\n",
       "        nav_element.append(button);\n",
       "    }\n",
       "\n",
       "    var fmt_picker_span = $('<span/>');\n",
       "\n",
       "    var fmt_picker = $('<select/>');\n",
       "    fmt_picker.addClass('mpl-toolbar-option ui-widget ui-widget-content');\n",
       "    fmt_picker_span.append(fmt_picker);\n",
       "    nav_element.append(fmt_picker_span);\n",
       "    this.format_dropdown = fmt_picker[0];\n",
       "\n",
       "    for (var ind in mpl.extensions) {\n",
       "        var fmt = mpl.extensions[ind];\n",
       "        var option = $(\n",
       "            '<option/>', {selected: fmt === mpl.default_extension}).html(fmt);\n",
       "        fmt_picker.append(option)\n",
       "    }\n",
       "\n",
       "    // Add hover states to the ui-buttons\n",
       "    $( \".ui-button\" ).hover(\n",
       "        function() { $(this).addClass(\"ui-state-hover\");},\n",
       "        function() { $(this).removeClass(\"ui-state-hover\");}\n",
       "    );\n",
       "\n",
       "    var status_bar = $('<span class=\"mpl-message\"/>');\n",
       "    nav_element.append(status_bar);\n",
       "    this.message = status_bar[0];\n",
       "}\n",
       "\n",
       "mpl.figure.prototype.request_resize = function(x_pixels, y_pixels) {\n",
       "    // Request matplotlib to resize the figure. Matplotlib will then trigger a resize in the client,\n",
       "    // which will in turn request a refresh of the image.\n",
       "    this.send_message('resize', {'width': x_pixels, 'height': y_pixels});\n",
       "}\n",
       "\n",
       "mpl.figure.prototype.send_message = function(type, properties) {\n",
       "    properties['type'] = type;\n",
       "    properties['figure_id'] = this.id;\n",
       "    this.ws.send(JSON.stringify(properties));\n",
       "}\n",
       "\n",
       "mpl.figure.prototype.send_draw_message = function() {\n",
       "    if (!this.waiting) {\n",
       "        this.waiting = true;\n",
       "        this.ws.send(JSON.stringify({type: \"draw\", figure_id: this.id}));\n",
       "    }\n",
       "}\n",
       "\n",
       "\n",
       "mpl.figure.prototype.handle_save = function(fig, msg) {\n",
       "    var format_dropdown = fig.format_dropdown;\n",
       "    var format = format_dropdown.options[format_dropdown.selectedIndex].value;\n",
       "    fig.ondownload(fig, format);\n",
       "}\n",
       "\n",
       "\n",
       "mpl.figure.prototype.handle_resize = function(fig, msg) {\n",
       "    var size = msg['size'];\n",
       "    if (size[0] != fig.canvas.width || size[1] != fig.canvas.height) {\n",
       "        fig._resize_canvas(size[0], size[1]);\n",
       "        fig.send_message(\"refresh\", {});\n",
       "    };\n",
       "}\n",
       "\n",
       "mpl.figure.prototype.handle_rubberband = function(fig, msg) {\n",
       "    var x0 = msg['x0'];\n",
       "    var y0 = fig.canvas.height - msg['y0'];\n",
       "    var x1 = msg['x1'];\n",
       "    var y1 = fig.canvas.height - msg['y1'];\n",
       "    x0 = Math.floor(x0) + 0.5;\n",
       "    y0 = Math.floor(y0) + 0.5;\n",
       "    x1 = Math.floor(x1) + 0.5;\n",
       "    y1 = Math.floor(y1) + 0.5;\n",
       "    var min_x = Math.min(x0, x1);\n",
       "    var min_y = Math.min(y0, y1);\n",
       "    var width = Math.abs(x1 - x0);\n",
       "    var height = Math.abs(y1 - y0);\n",
       "\n",
       "    fig.rubberband_context.clearRect(\n",
       "        0, 0, fig.canvas.width, fig.canvas.height);\n",
       "\n",
       "    fig.rubberband_context.strokeRect(min_x, min_y, width, height);\n",
       "}\n",
       "\n",
       "mpl.figure.prototype.handle_figure_label = function(fig, msg) {\n",
       "    // Updates the figure title.\n",
       "    fig.header.textContent = msg['label'];\n",
       "}\n",
       "\n",
       "mpl.figure.prototype.handle_cursor = function(fig, msg) {\n",
       "    var cursor = msg['cursor'];\n",
       "    switch(cursor)\n",
       "    {\n",
       "    case 0:\n",
       "        cursor = 'pointer';\n",
       "        break;\n",
       "    case 1:\n",
       "        cursor = 'default';\n",
       "        break;\n",
       "    case 2:\n",
       "        cursor = 'crosshair';\n",
       "        break;\n",
       "    case 3:\n",
       "        cursor = 'move';\n",
       "        break;\n",
       "    }\n",
       "    fig.rubberband_canvas.style.cursor = cursor;\n",
       "}\n",
       "\n",
       "mpl.figure.prototype.handle_message = function(fig, msg) {\n",
       "    fig.message.textContent = msg['message'];\n",
       "}\n",
       "\n",
       "mpl.figure.prototype.handle_draw = function(fig, msg) {\n",
       "    // Request the server to send over a new figure.\n",
       "    fig.send_draw_message();\n",
       "}\n",
       "\n",
       "mpl.figure.prototype.handle_image_mode = function(fig, msg) {\n",
       "    fig.image_mode = msg['mode'];\n",
       "}\n",
       "\n",
       "mpl.figure.prototype.updated_canvas_event = function() {\n",
       "    // Called whenever the canvas gets updated.\n",
       "    this.send_message(\"ack\", {});\n",
       "}\n",
       "\n",
       "// A function to construct a web socket function for onmessage handling.\n",
       "// Called in the figure constructor.\n",
       "mpl.figure.prototype._make_on_message_function = function(fig) {\n",
       "    return function socket_on_message(evt) {\n",
       "        if (evt.data instanceof Blob) {\n",
       "            /* FIXME: We get \"Resource interpreted as Image but\n",
       "             * transferred with MIME type text/plain:\" errors on\n",
       "             * Chrome.  But how to set the MIME type?  It doesn't seem\n",
       "             * to be part of the websocket stream */\n",
       "            evt.data.type = \"image/png\";\n",
       "\n",
       "            /* Free the memory for the previous frames */\n",
       "            if (fig.imageObj.src) {\n",
       "                (window.URL || window.webkitURL).revokeObjectURL(\n",
       "                    fig.imageObj.src);\n",
       "            }\n",
       "\n",
       "            fig.imageObj.src = (window.URL || window.webkitURL).createObjectURL(\n",
       "                evt.data);\n",
       "            fig.updated_canvas_event();\n",
       "            fig.waiting = false;\n",
       "            return;\n",
       "        }\n",
       "        else if (typeof evt.data === 'string' && evt.data.slice(0, 21) == \"data:image/png;base64\") {\n",
       "            fig.imageObj.src = evt.data;\n",
       "            fig.updated_canvas_event();\n",
       "            fig.waiting = false;\n",
       "            return;\n",
       "        }\n",
       "\n",
       "        var msg = JSON.parse(evt.data);\n",
       "        var msg_type = msg['type'];\n",
       "\n",
       "        // Call the  \"handle_{type}\" callback, which takes\n",
       "        // the figure and JSON message as its only arguments.\n",
       "        try {\n",
       "            var callback = fig[\"handle_\" + msg_type];\n",
       "        } catch (e) {\n",
       "            console.log(\"No handler for the '\" + msg_type + \"' message type: \", msg);\n",
       "            return;\n",
       "        }\n",
       "\n",
       "        if (callback) {\n",
       "            try {\n",
       "                // console.log(\"Handling '\" + msg_type + \"' message: \", msg);\n",
       "                callback(fig, msg);\n",
       "            } catch (e) {\n",
       "                console.log(\"Exception inside the 'handler_\" + msg_type + \"' callback:\", e, e.stack, msg);\n",
       "            }\n",
       "        }\n",
       "    };\n",
       "}\n",
       "\n",
       "// from http://stackoverflow.com/questions/1114465/getting-mouse-location-in-canvas\n",
       "mpl.findpos = function(e) {\n",
       "    //this section is from http://www.quirksmode.org/js/events_properties.html\n",
       "    var targ;\n",
       "    if (!e)\n",
       "        e = window.event;\n",
       "    if (e.target)\n",
       "        targ = e.target;\n",
       "    else if (e.srcElement)\n",
       "        targ = e.srcElement;\n",
       "    if (targ.nodeType == 3) // defeat Safari bug\n",
       "        targ = targ.parentNode;\n",
       "\n",
       "    // jQuery normalizes the pageX and pageY\n",
       "    // pageX,Y are the mouse positions relative to the document\n",
       "    // offset() returns the position of the element relative to the document\n",
       "    var x = e.pageX - $(targ).offset().left;\n",
       "    var y = e.pageY - $(targ).offset().top;\n",
       "\n",
       "    return {\"x\": x, \"y\": y};\n",
       "};\n",
       "\n",
       "/*\n",
       " * return a copy of an object with only non-object keys\n",
       " * we need this to avoid circular references\n",
       " * http://stackoverflow.com/a/24161582/3208463\n",
       " */\n",
       "function simpleKeys (original) {\n",
       "  return Object.keys(original).reduce(function (obj, key) {\n",
       "    if (typeof original[key] !== 'object')\n",
       "        obj[key] = original[key]\n",
       "    return obj;\n",
       "  }, {});\n",
       "}\n",
       "\n",
       "mpl.figure.prototype.mouse_event = function(event, name) {\n",
       "    var canvas_pos = mpl.findpos(event)\n",
       "\n",
       "    if (name === 'button_press')\n",
       "    {\n",
       "        this.canvas.focus();\n",
       "        this.canvas_div.focus();\n",
       "    }\n",
       "\n",
       "    var x = canvas_pos.x;\n",
       "    var y = canvas_pos.y;\n",
       "\n",
       "    this.send_message(name, {x: x, y: y, button: event.button,\n",
       "                             step: event.step,\n",
       "                             guiEvent: simpleKeys(event)});\n",
       "\n",
       "    /* This prevents the web browser from automatically changing to\n",
       "     * the text insertion cursor when the button is pressed.  We want\n",
       "     * to control all of the cursor setting manually through the\n",
       "     * 'cursor' event from matplotlib */\n",
       "    event.preventDefault();\n",
       "    return false;\n",
       "}\n",
       "\n",
       "mpl.figure.prototype._key_event_extra = function(event, name) {\n",
       "    // Handle any extra behaviour associated with a key event\n",
       "}\n",
       "\n",
       "mpl.figure.prototype.key_event = function(event, name) {\n",
       "\n",
       "    // Prevent repeat events\n",
       "    if (name == 'key_press')\n",
       "    {\n",
       "        if (event.which === this._key)\n",
       "            return;\n",
       "        else\n",
       "            this._key = event.which;\n",
       "    }\n",
       "    if (name == 'key_release')\n",
       "        this._key = null;\n",
       "\n",
       "    var value = '';\n",
       "    if (event.ctrlKey && event.which != 17)\n",
       "        value += \"ctrl+\";\n",
       "    if (event.altKey && event.which != 18)\n",
       "        value += \"alt+\";\n",
       "    if (event.shiftKey && event.which != 16)\n",
       "        value += \"shift+\";\n",
       "\n",
       "    value += 'k';\n",
       "    value += event.which.toString();\n",
       "\n",
       "    this._key_event_extra(event, name);\n",
       "\n",
       "    this.send_message(name, {key: value,\n",
       "                             guiEvent: simpleKeys(event)});\n",
       "    return false;\n",
       "}\n",
       "\n",
       "mpl.figure.prototype.toolbar_button_onclick = function(name) {\n",
       "    if (name == 'download') {\n",
       "        this.handle_save(this, null);\n",
       "    } else {\n",
       "        this.send_message(\"toolbar_button\", {name: name});\n",
       "    }\n",
       "};\n",
       "\n",
       "mpl.figure.prototype.toolbar_button_onmouseover = function(tooltip) {\n",
       "    this.message.textContent = tooltip;\n",
       "};\n",
       "mpl.toolbar_items = [[\"Home\", \"Reset original view\", \"fa fa-home icon-home\", \"home\"], [\"Back\", \"Back to  previous view\", \"fa fa-arrow-left icon-arrow-left\", \"back\"], [\"Forward\", \"Forward to next view\", \"fa fa-arrow-right icon-arrow-right\", \"forward\"], [\"\", \"\", \"\", \"\"], [\"Pan\", \"Pan axes with left mouse, zoom with right\", \"fa fa-arrows icon-move\", \"pan\"], [\"Zoom\", \"Zoom to rectangle\", \"fa fa-square-o icon-check-empty\", \"zoom\"], [\"\", \"\", \"\", \"\"], [\"Download\", \"Download plot\", \"fa fa-floppy-o icon-save\", \"download\"]];\n",
       "\n",
       "mpl.extensions = [\"eps\", \"jpeg\", \"pdf\", \"png\", \"ps\", \"raw\", \"svg\", \"tif\"];\n",
       "\n",
       "mpl.default_extension = \"png\";var comm_websocket_adapter = function(comm) {\n",
       "    // Create a \"websocket\"-like object which calls the given IPython comm\n",
       "    // object with the appropriate methods. Currently this is a non binary\n",
       "    // socket, so there is still some room for performance tuning.\n",
       "    var ws = {};\n",
       "\n",
       "    ws.close = function() {\n",
       "        comm.close()\n",
       "    };\n",
       "    ws.send = function(m) {\n",
       "        //console.log('sending', m);\n",
       "        comm.send(m);\n",
       "    };\n",
       "    // Register the callback with on_msg.\n",
       "    comm.on_msg(function(msg) {\n",
       "        //console.log('receiving', msg['content']['data'], msg);\n",
       "        // Pass the mpl event to the overriden (by mpl) onmessage function.\n",
       "        ws.onmessage(msg['content']['data'])\n",
       "    });\n",
       "    return ws;\n",
       "}\n",
       "\n",
       "mpl.mpl_figure_comm = function(comm, msg) {\n",
       "    // This is the function which gets called when the mpl process\n",
       "    // starts-up an IPython Comm through the \"matplotlib\" channel.\n",
       "\n",
       "    var id = msg.content.data.id;\n",
       "    // Get hold of the div created by the display call when the Comm\n",
       "    // socket was opened in Python.\n",
       "    var element = $(\"#\" + id);\n",
       "    var ws_proxy = comm_websocket_adapter(comm)\n",
       "\n",
       "    function ondownload(figure, format) {\n",
       "        window.open(figure.imageObj.src);\n",
       "    }\n",
       "\n",
       "    var fig = new mpl.figure(id, ws_proxy,\n",
       "                           ondownload,\n",
       "                           element.get(0));\n",
       "\n",
       "    // Call onopen now - mpl needs it, as it is assuming we've passed it a real\n",
       "    // web socket which is closed, not our websocket->open comm proxy.\n",
       "    ws_proxy.onopen();\n",
       "\n",
       "    fig.parent_element = element.get(0);\n",
       "    fig.cell_info = mpl.find_output_cell(\"<div id='\" + id + \"'></div>\");\n",
       "    if (!fig.cell_info) {\n",
       "        console.error(\"Failed to find cell for figure\", id, fig);\n",
       "        return;\n",
       "    }\n",
       "\n",
       "    var output_index = fig.cell_info[2]\n",
       "    var cell = fig.cell_info[0];\n",
       "\n",
       "};\n",
       "\n",
       "mpl.figure.prototype.handle_close = function(fig, msg) {\n",
       "    fig.root.unbind('remove')\n",
       "\n",
       "    // Update the output cell to use the data from the current canvas.\n",
       "    fig.push_to_output();\n",
       "    var dataURL = fig.canvas.toDataURL();\n",
       "    // Re-enable the keyboard manager in IPython - without this line, in FF,\n",
       "    // the notebook keyboard shortcuts fail.\n",
       "    IPython.keyboard_manager.enable()\n",
       "    $(fig.parent_element).html('<img src=\"' + dataURL + '\">');\n",
       "    fig.close_ws(fig, msg);\n",
       "}\n",
       "\n",
       "mpl.figure.prototype.close_ws = function(fig, msg){\n",
       "    fig.send_message('closing', msg);\n",
       "    // fig.ws.close()\n",
       "}\n",
       "\n",
       "mpl.figure.prototype.push_to_output = function(remove_interactive) {\n",
       "    // Turn the data on the canvas into data in the output cell.\n",
       "    var dataURL = this.canvas.toDataURL();\n",
       "    this.cell_info[1]['text/html'] = '<img src=\"' + dataURL + '\">';\n",
       "}\n",
       "\n",
       "mpl.figure.prototype.updated_canvas_event = function() {\n",
       "    // Tell IPython that the notebook contents must change.\n",
       "    IPython.notebook.set_dirty(true);\n",
       "    this.send_message(\"ack\", {});\n",
       "    var fig = this;\n",
       "    // Wait a second, then push the new image to the DOM so\n",
       "    // that it is saved nicely (might be nice to debounce this).\n",
       "    setTimeout(function () { fig.push_to_output() }, 1000);\n",
       "}\n",
       "\n",
       "mpl.figure.prototype._init_toolbar = function() {\n",
       "    var fig = this;\n",
       "\n",
       "    var nav_element = $('<div/>')\n",
       "    nav_element.attr('style', 'width: 100%');\n",
       "    this.root.append(nav_element);\n",
       "\n",
       "    // Define a callback function for later on.\n",
       "    function toolbar_event(event) {\n",
       "        return fig.toolbar_button_onclick(event['data']);\n",
       "    }\n",
       "    function toolbar_mouse_event(event) {\n",
       "        return fig.toolbar_button_onmouseover(event['data']);\n",
       "    }\n",
       "\n",
       "    for(var toolbar_ind in mpl.toolbar_items){\n",
       "        var name = mpl.toolbar_items[toolbar_ind][0];\n",
       "        var tooltip = mpl.toolbar_items[toolbar_ind][1];\n",
       "        var image = mpl.toolbar_items[toolbar_ind][2];\n",
       "        var method_name = mpl.toolbar_items[toolbar_ind][3];\n",
       "\n",
       "        if (!name) { continue; };\n",
       "\n",
       "        var button = $('<button class=\"btn btn-default\" href=\"#\" title=\"' + name + '\"><i class=\"fa ' + image + ' fa-lg\"></i></button>');\n",
       "        button.click(method_name, toolbar_event);\n",
       "        button.mouseover(tooltip, toolbar_mouse_event);\n",
       "        nav_element.append(button);\n",
       "    }\n",
       "\n",
       "    // Add the status bar.\n",
       "    var status_bar = $('<span class=\"mpl-message\" style=\"text-align:right; float: right;\"/>');\n",
       "    nav_element.append(status_bar);\n",
       "    this.message = status_bar[0];\n",
       "\n",
       "    // Add the close button to the window.\n",
       "    var buttongrp = $('<div class=\"btn-group inline pull-right\"></div>');\n",
       "    var button = $('<button class=\"btn btn-mini btn-primary\" href=\"#\" title=\"Stop Interaction\"><i class=\"fa fa-power-off icon-remove icon-large\"></i></button>');\n",
       "    button.click(function (evt) { fig.handle_close(fig, {}); } );\n",
       "    button.mouseover('Stop Interaction', toolbar_mouse_event);\n",
       "    buttongrp.append(button);\n",
       "    var titlebar = this.root.find($('.ui-dialog-titlebar'));\n",
       "    titlebar.prepend(buttongrp);\n",
       "}\n",
       "\n",
       "mpl.figure.prototype._root_extra_style = function(el){\n",
       "    var fig = this\n",
       "    el.on(\"remove\", function(){\n",
       "\tfig.close_ws(fig, {});\n",
       "    });\n",
       "}\n",
       "\n",
       "mpl.figure.prototype._canvas_extra_style = function(el){\n",
       "    // this is important to make the div 'focusable\n",
       "    el.attr('tabindex', 0)\n",
       "    // reach out to IPython and tell the keyboard manager to turn it's self\n",
       "    // off when our div gets focus\n",
       "\n",
       "    // location in version 3\n",
       "    if (IPython.notebook.keyboard_manager) {\n",
       "        IPython.notebook.keyboard_manager.register_events(el);\n",
       "    }\n",
       "    else {\n",
       "        // location in version 2\n",
       "        IPython.keyboard_manager.register_events(el);\n",
       "    }\n",
       "\n",
       "}\n",
       "\n",
       "mpl.figure.prototype._key_event_extra = function(event, name) {\n",
       "    var manager = IPython.notebook.keyboard_manager;\n",
       "    if (!manager)\n",
       "        manager = IPython.keyboard_manager;\n",
       "\n",
       "    // Check for shift+enter\n",
       "    if (event.shiftKey && event.which == 13) {\n",
       "        this.canvas_div.blur();\n",
       "        event.shiftKey = false;\n",
       "        // Send a \"J\" for go to next cell\n",
       "        event.which = 74;\n",
       "        event.keyCode = 74;\n",
       "        manager.command_mode();\n",
       "        manager.handle_keydown(event);\n",
       "    }\n",
       "}\n",
       "\n",
       "mpl.figure.prototype.handle_save = function(fig, msg) {\n",
       "    fig.ondownload(fig, null);\n",
       "}\n",
       "\n",
       "\n",
       "mpl.find_output_cell = function(html_output) {\n",
       "    // Return the cell and output element which can be found *uniquely* in the notebook.\n",
       "    // Note - this is a bit hacky, but it is done because the \"notebook_saving.Notebook\"\n",
       "    // IPython event is triggered only after the cells have been serialised, which for\n",
       "    // our purposes (turning an active figure into a static one), is too late.\n",
       "    var cells = IPython.notebook.get_cells();\n",
       "    var ncells = cells.length;\n",
       "    for (var i=0; i<ncells; i++) {\n",
       "        var cell = cells[i];\n",
       "        if (cell.cell_type === 'code'){\n",
       "            for (var j=0; j<cell.output_area.outputs.length; j++) {\n",
       "                var data = cell.output_area.outputs[j];\n",
       "                if (data.data) {\n",
       "                    // IPython >= 3 moved mimebundle to data attribute of output\n",
       "                    data = data.data;\n",
       "                }\n",
       "                if (data['text/html'] == html_output) {\n",
       "                    return [cell, data, j];\n",
       "                }\n",
       "            }\n",
       "        }\n",
       "    }\n",
       "}\n",
       "\n",
       "// Register the function which deals with the matplotlib target/channel.\n",
       "// The kernel may be null if the page has been refreshed.\n",
       "if (IPython.notebook.kernel != null) {\n",
       "    IPython.notebook.kernel.comm_manager.register_target('matplotlib', mpl.mpl_figure_comm);\n",
       "}\n"
      ],
      "text/plain": [
       "<IPython.core.display.Javascript object>"
      ]
     },
     "metadata": {},
     "output_type": "display_data"
    },
    {
     "data": {
      "text/html": [
       "<img src=\"data:image/png;base64,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\">"
      ],
      "text/plain": [
       "<IPython.core.display.HTML object>"
      ]
     },
     "metadata": {},
     "output_type": "display_data"
    }
   ],
   "source": [
    "fig = tree.plot(form='density')[0]\n",
    "fig.show()"
   ]
  },
  {
   "cell_type": "markdown",
   "metadata": {},
   "source": [
    "## Retriving the clusters"
   ]
  },
  {
   "cell_type": "code",
   "execution_count": 13,
   "metadata": {
    "ExecuteTime": {
     "end_time": "2020-06-27T14:24:55.328000Z",
     "start_time": "2020-06-27T14:24:55.314000Z"
    },
    "collapsed": false
   },
   "outputs": [
    {
     "data": {
      "text/plain": [
       "array([[  0,   1],\n",
       "       [129,   1],\n",
       "       [  2,   1],\n",
       "       [ 22,   1],\n",
       "       [  7,   1]])"
      ]
     },
     "execution_count": 13,
     "metadata": {},
     "output_type": "execute_result"
    }
   ],
   "source": [
    "labels = tree.get_clusters(method='leaf',\n",
    "                          fill_background=False)\n",
    "labels[:5]"
   ]
  }
 ],
 "metadata": {
  "kernelspec": {
   "display_name": "Python 2",
   "language": "python",
   "name": "python2"
  },
  "language_info": {
   "codemirror_mode": {
    "name": "ipython",
    "version": 2
   },
   "file_extension": ".py",
   "mimetype": "text/x-python",
   "name": "python",
   "nbconvert_exporter": "python",
   "pygments_lexer": "ipython2",
   "version": "2.7.13"
  },
  "toc": {
   "base_numbering": 1,
   "nav_menu": {},
   "number_sections": true,
   "sideBar": true,
   "skip_h1_title": false,
   "title_cell": "Table of Contents",
   "title_sidebar": "Contents",
   "toc_cell": false,
   "toc_position": {},
   "toc_section_display": true,
   "toc_window_display": false
  }
 },
 "nbformat": 4,
 "nbformat_minor": 0
}
