{
 "cells": [
  {
   "cell_type": "markdown",
   "metadata": {},
   "source": [
    "# Abouts.\n",
    "\n",
    "This notebook stores some of my lovely codes that i found it useful for daily usage but quite hard to remembered and recreate from scratch. The codes mostly for preprocessing things, hope it helps for anyone go around this repo. The code below sometimes using queryGrab UDF code so, if you're intended to reproduce some of code below, dont hesitate to install the packages first to your environment! :D"
   ]
  },
  {
   "cell_type": "markdown",
   "metadata": {},
   "source": [
    "# Multiprocessing"
   ]
  },
  {
   "cell_type": "markdown",
   "metadata": {},
   "source": [
    "## Multiprocessing by rows\n",
    "\n",
    "The idea was when you have thousand of thousand of rows and you have to process it as fast as you could, and your manager looking behind you while you're coding, I hope this code could helps. what you have to do is actually create a functions like below:"
   ]
  },
  {
   "cell_type": "code",
   "execution_count": 1,
   "metadata": {
    "ExecuteTime": {
     "end_time": "2019-03-04T15:19:25.307001Z",
     "start_time": "2019-03-04T15:19:24.584420Z"
    }
   },
   "outputs": [],
   "source": [
    "import random\n",
    "import pandas as pd\n",
    "from math import pi\n",
    "import queryGrab as qgr"
   ]
  },
  {
   "cell_type": "code",
   "execution_count": 2,
   "metadata": {
    "ExecuteTime": {
     "end_time": "2019-03-04T15:19:28.518896Z",
     "start_time": "2019-03-04T15:19:25.309374Z"
    }
   },
   "outputs": [
    {
     "data": {
      "text/html": [
       "<div>\n",
       "<style scoped>\n",
       "    .dataframe tbody tr th:only-of-type {\n",
       "        vertical-align: middle;\n",
       "    }\n",
       "\n",
       "    .dataframe tbody tr th {\n",
       "        vertical-align: top;\n",
       "    }\n",
       "\n",
       "    .dataframe thead th {\n",
       "        text-align: right;\n",
       "    }\n",
       "</style>\n",
       "<table border=\"1\" class=\"dataframe\">\n",
       "  <thead>\n",
       "    <tr style=\"text-align: right;\">\n",
       "      <th></th>\n",
       "      <th>diameter</th>\n",
       "      <th>height</th>\n",
       "      <th>pi</th>\n",
       "      <th>half</th>\n",
       "    </tr>\n",
       "  </thead>\n",
       "  <tbody>\n",
       "    <tr>\n",
       "      <th>0</th>\n",
       "      <td>725</td>\n",
       "      <td>77</td>\n",
       "      <td>3.141593</td>\n",
       "      <td>0.5</td>\n",
       "    </tr>\n",
       "    <tr>\n",
       "      <th>1</th>\n",
       "      <td>385</td>\n",
       "      <td>93</td>\n",
       "      <td>3.141593</td>\n",
       "      <td>0.5</td>\n",
       "    </tr>\n",
       "    <tr>\n",
       "      <th>2</th>\n",
       "      <td>873</td>\n",
       "      <td>51</td>\n",
       "      <td>3.141593</td>\n",
       "      <td>0.5</td>\n",
       "    </tr>\n",
       "    <tr>\n",
       "      <th>3</th>\n",
       "      <td>41</td>\n",
       "      <td>19</td>\n",
       "      <td>3.141593</td>\n",
       "      <td>0.5</td>\n",
       "    </tr>\n",
       "    <tr>\n",
       "      <th>4</th>\n",
       "      <td>594</td>\n",
       "      <td>92</td>\n",
       "      <td>3.141593</td>\n",
       "      <td>0.5</td>\n",
       "    </tr>\n",
       "  </tbody>\n",
       "</table>\n",
       "</div>"
      ],
      "text/plain": [
       "   diameter  height        pi  half\n",
       "0       725      77  3.141593   0.5\n",
       "1       385      93  3.141593   0.5\n",
       "2       873      51  3.141593   0.5\n",
       "3        41      19  3.141593   0.5\n",
       "4       594      92  3.141593   0.5"
      ]
     },
     "execution_count": 2,
     "metadata": {},
     "output_type": "execute_result"
    }
   ],
   "source": [
    "# create a dataframe contain diameter, height, pi, and 0.5, assume we want to create a calculation \n",
    "# about tube volume in this dataframe in each rows.\n",
    "d = [random.randint(0,1000) for x in range(0,1000*1000)]\n",
    "t = [random.randint(0,100) for x in range(0,1000*1000)]\n",
    "\n",
    "tube_df= pd.DataFrame({'diameter':d,\n",
    "              'height':t})\n",
    "\n",
    "tube_df['pi']= pi\n",
    "tube_df['half']= 0.5\n",
    "tube_df_par= tube_df.copy()\n",
    "tube_df.head()"
   ]
  },
  {
   "cell_type": "code",
   "execution_count": 3,
   "metadata": {
    "ExecuteTime": {
     "end_time": "2019-03-04T15:19:28.534589Z",
     "start_time": "2019-03-04T15:19:28.527380Z"
    }
   },
   "outputs": [],
   "source": [
    "def proc1(x):\n",
    "    r= x['pi']*(x['diameter']/x['half'])**2*x['height']\n",
    "    # print(r)\n",
    "    \n",
    "    return r"
   ]
  },
  {
   "cell_type": "code",
   "execution_count": 4,
   "metadata": {
    "ExecuteTime": {
     "end_time": "2019-03-04T15:20:36.800482Z",
     "start_time": "2019-03-04T15:19:59.872127Z"
    }
   },
   "outputs": [],
   "source": [
    "# regular mapping demos\n",
    "# the regular mapping is about 37 seconds, while ....\n",
    "tube_df['volume']= tube_df.apply(proc1, axis=1)"
   ]
  },
  {
   "cell_type": "code",
   "execution_count": 5,
   "metadata": {
    "ExecuteTime": {
     "end_time": "2019-03-04T15:21:18.478612Z",
     "start_time": "2019-03-04T15:20:59.056024Z"
    }
   },
   "outputs": [],
   "source": [
    "# parallel demos\n",
    "# parallelize only took almost half of them, it also depends on how many cores we have\n",
    "# in this scenario I use late macbook pro 2015 with only 4 cores.\n",
    "res= qgr.parallelize_on_rows(tube_df_par, proc1)\n",
    "tube_df['volume']= res`"
   ]
  }
 ],
 "metadata": {
  "hide_input": false,
  "kernelspec": {
   "display_name": "Python 3",
   "language": "python",
   "name": "python3"
  },
  "language_info": {
   "codemirror_mode": {
    "name": "ipython",
    "version": 3
   },
   "file_extension": ".py",
   "mimetype": "text/x-python",
   "name": "python",
   "nbconvert_exporter": "python",
   "pygments_lexer": "ipython3",
   "version": "3.6.3"
  },
  "toc": {
   "nav_menu": {},
   "number_sections": true,
   "sideBar": true,
   "skip_h1_title": false,
   "toc_cell": false,
   "toc_position": {},
   "toc_section_display": "block",
   "toc_window_display": false
  }
 },
 "nbformat": 4,
 "nbformat_minor": 2
}
